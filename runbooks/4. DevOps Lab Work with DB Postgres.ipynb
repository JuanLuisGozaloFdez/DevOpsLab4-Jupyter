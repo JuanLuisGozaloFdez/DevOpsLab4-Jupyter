{
 "cells": [
  {
   "cell_type": "markdown",
   "metadata": {},
   "source": [
    "# DevOpsLab Jupyter: Notebook example\n",
    "## Using a Database system"
   ]
  },
  {
   "cell_type": "markdown",
   "metadata": {},
   "source": [
    "These are only examples to show the advantage of having all-in-one for Day-to-day Operations\n"
   ]
  },
  {
   "cell_type": "markdown",
   "metadata": {},
   "source": [
    "### 1.Restart the PostgreSQL server and re-create the DEMO database\n",
    "\n",
    "Because it uses for repeatable demos, so a restart and database re-creation is required"
   ]
  },
  {
   "cell_type": "code",
   "execution_count": null,
   "metadata": {},
   "outputs": [],
   "source": [
    "%%bash -x\n",
    "pg_ctl.exe restart --pgdata=\"/data\"\n",
    "psql.exe -c \"drop database if exists DEMO;\" postgres\n",
    "psql.exe -c \"create database DEMO;\" postgres"
   ]
  },
  {
   "cell_type": "markdown",
   "metadata": {},
   "source": [
    "## load the library and connect to DEMO\n",
    "\n",
    "use `%reload_ext` to avoid the \"The sql extension is already loaded.\" error with `%load_ext`"
   ]
  },
  {
   "cell_type": "code",
   "execution_count": null,
   "metadata": {},
   "outputs": [],
   "source": [
    "%reload_ext sql\n",
    "%sql postgresql://localhost/demo "
   ]
  },
  {
   "cell_type": "markdown",
   "metadata": {},
   "source": [
    "I can see that I run the latest PostgreSQL release:"
   ]
  },
  {
   "cell_type": "code",
   "execution_count": null,
   "metadata": {},
   "outputs": [],
   "source": [
    "pg_version=%sql select version()\n",
    "print(pg_version)"
   ]
  },
  {
   "cell_type": "markdown",
   "metadata": {},
   "source": [
    "## Create a demo table\n",
    "\n",
    "Many statements can be executed at the same time but all output is displayed at the end"
   ]
  },
  {
   "cell_type": "code",
   "execution_count": null,
   "metadata": {},
   "outputs": [],
   "source": [
    "%%sql\n",
    "drop table if exists EMP;\n",
    "drop table if exists DEPT;\n",
    "CREATE TABLE DEPT\n",
    "       (DEPTNO integer CONSTRAINT PK_DEPT PRIMARY KEY,\n",
    "        DNAME text ,\n",
    "        LOC text ) ;\n",
    "CREATE TABLE EMP\n",
    "       (EMPNO integer CONSTRAINT PK_EMP PRIMARY KEY,\n",
    "        ENAME text,\n",
    "        JOB text,\n",
    "        MGR integer,\n",
    "        HIREDATE date,\n",
    "        SAL integer,\n",
    "        COMM integer,\n",
    "        DEPTNO integer CONSTRAINT FK_DEPTNO REFERENCES DEPT);\n",
    "INSERT INTO DEPT VALUES (10,'ACCOUNTING','LOGROÑO');\n",
    "INSERT INTO DEPT VALUES (20,'RESEARCH','MADRID');\n",
    "INSERT INTO DEPT VALUES (30,'SALES','BUENOS AIRES');\n",
    "INSERT INTO DEPT VALUES (40,'OPERATIONS','MEXICO D.F.');\n",
    "INSERT INTO EMP VALUES (3500,'SONIA GONZALEZ','DIRECTOR',3500,to_date('1-01-2001','dd-mm-yyyy'),3000,NULL,40);\n",
    "INSERT INTO EMP VALUES (3501,'PEDRO PEREZ','COMERCIAL',3500,to_date('3-12-2003','dd-mm-yyyy'),2900,NULL,30);\n",
    "INSERT INTO EMP VALUES (3502,'DENISSE LOMAS','INVESTIGADOR SENIOR',3501,to_date('3-12-2003','dd-mm-yyyy'),2900,NULL,20);\n",
    "INSERT INTO EMP VALUES (3503,'FORD LOMAS','ADMINISTRATIVO',3500,to_date('23-1-2021','dd-mm-yyyy'),1300,NULL,10);"
   ]
  },
  {
   "cell_type": "markdown",
   "metadata": {},
   "source": [
    "## PSQL special commands\n",
    "\n",
    "Thanks to the PGspecial plug-in, 'backslash' commands can be used"
   ]
  },
  {
   "cell_type": "code",
   "execution_count": null,
   "metadata": {},
   "outputs": [],
   "source": [
    "%sql \\dt"
   ]
  },
  {
   "cell_type": "markdown",
   "metadata": {},
   "source": [
    "### Make a query to retrieve some rows with SQL\n",
    "\n",
    "Bind variables can be used in the query statements!"
   ]
  },
  {
   "cell_type": "code",
   "execution_count": null,
   "metadata": {},
   "outputs": [],
   "source": [
    "deptno=10\n",
    "%sql select * from DEPT join EMP using (DEPTNO) where deptno=:deptno"
   ]
  },
  {
   "cell_type": "markdown",
   "metadata": {},
   "source": [
    "By default, the output is nicely formated in an HTML table\n",
    "\n",
    "The previous result is accessible with `_` and can be displayed as an ASCII table"
   ]
  },
  {
   "cell_type": "code",
   "execution_count": null,
   "metadata": {},
   "outputs": [],
   "source": [
    "print(_)"
   ]
  },
  {
   "cell_type": "markdown",
   "metadata": {},
   "source": [
    "### Access to the first row:"
   ]
  },
  {
   "cell_type": "code",
   "execution_count": null,
   "metadata": {},
   "outputs": [],
   "source": [
    "print(_[0])"
   ]
  },
  {
   "cell_type": "markdown",
   "metadata": {},
   "source": [
    "###Display the column names:"
   ]
  },
  {
   "cell_type": "code",
   "execution_count": null,
   "metadata": {},
   "outputs": [],
   "source": [
    "print(_.keys)"
   ]
  },
  {
   "cell_type": "markdown",
   "metadata": {},
   "source": [
    "### Access to one column by index or by name:"
   ]
  },
  {
   "cell_type": "code",
   "execution_count": null,
   "metadata": {},
   "outputs": [],
   "source": [
    "print(_[0][4])\n",
    "print(_[0]['hiredate'])"
   ]
  },
  {
   "cell_type": "markdown",
   "metadata": {},
   "source": [
    "### Graphical displays\n",
    "\n",
    "Using python mathplotlib library, and some functions like .plot(), .pie(), and .bar(), the Runbook can also shown graphical displays to help us"
   ]
  },
  {
   "cell_type": "code",
   "execution_count": null,
   "metadata": {},
   "outputs": [],
   "source": [
    "r=%sql select dname,avg(sal) from DEPT join EMP using (DEPTNO) group by dname\n",
    "%matplotlib inline\n",
    "r.bar()"
   ]
  },
  {
   "cell_type": "markdown",
   "metadata": {},
   "source": [
    "**Enjoy it!!!**"
   ]
  }
 ],
 "metadata": {
  "kernelspec": {
   "display_name": "Python 3",
   "language": "python",
   "name": "python3"
  },
  "language_info": {
   "codemirror_mode": {
    "name": "ipython",
    "version": 3
   },
   "file_extension": ".py",
   "mimetype": "text/x-python",
   "name": "python",
   "nbconvert_exporter": "python",
   "pygments_lexer": "ipython3",
   "version": "3.8.6"
  }
 },
 "nbformat": 4,
 "nbformat_minor": 2
}