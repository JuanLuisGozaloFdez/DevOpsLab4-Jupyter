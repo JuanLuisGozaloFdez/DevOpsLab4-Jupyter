{
 "cells": [
  {
   "cell_type": "markdown",
   "source": [
    "# DevOpsLab Jupyter: Notebook example\r\n",
    "\r\n",
    "## Using a Database system\r\n",
    "\r\n",
    "These are only examples to show the advantage of having all-in-one for Day-to-day Operations in a Jupyter Runbook\r\n",
    "\r\n",
    "### Pre-requisites\r\n",
    "\r\n",
    "1. Postgress database engine must be installed in the system (with a docker-compose statement or directly in the host)\r\n",
    "2. Postgress python modules must be loaded in the container as startup scripts"
   ],
   "metadata": {}
  },
  {
   "cell_type": "markdown",
   "source": [
    "### 1.Restart the PostgreSQL server and re-create the DEMO database\r\n",
    "\r\n",
    "Because it uses for repeatable demos, so a restart and database re-creation is required"
   ],
   "metadata": {}
  },
  {
   "cell_type": "code",
   "execution_count": null,
   "source": [
    "%%bash -x\r\n",
    "pg_ctl.exe restart --pgdata=\"/data\"\r\n",
    "psql.exe -c \"drop database if exists DEMO;\" postgres\r\n",
    "psql.exe -c \"create database DEMO;\" postgres"
   ],
   "outputs": [],
   "metadata": {}
  },
  {
   "cell_type": "markdown",
   "source": [
    "## load the library and connect to DEMO\n",
    "\n",
    "use `%reload_ext` to avoid the \"The sql extension is already loaded.\" error with `%load_ext`"
   ],
   "metadata": {}
  },
  {
   "cell_type": "code",
   "execution_count": null,
   "source": [
    "%reload_ext sql\r\n",
    "%sql postgresql://localhost/demo "
   ],
   "outputs": [],
   "metadata": {}
  },
  {
   "cell_type": "markdown",
   "source": [
    "latest PostgreSQL release:"
   ],
   "metadata": {}
  },
  {
   "cell_type": "code",
   "execution_count": null,
   "source": [
    "pg_version=%sql select version()\r\n",
    "print(pg_version)"
   ],
   "outputs": [],
   "metadata": {}
  },
  {
   "cell_type": "markdown",
   "source": [
    "## Create a demo table\r\n",
    "\r\n",
    "Remember that Jupyter execute all the cell and, then, shows the output. Therefore, many sql statements can be executed at the same time but all output is displayed at the end."
   ],
   "metadata": {}
  },
  {
   "cell_type": "code",
   "execution_count": null,
   "source": [
    "%%sql\r\n",
    "drop table if exists EMP;\r\n",
    "drop table if exists DEPT;\r\n",
    "CREATE TABLE DEPT\r\n",
    "       (DEPTNO integer CONSTRAINT PK_DEPT PRIMARY KEY,\r\n",
    "        DNAME text ,\r\n",
    "        LOC text ) ;\r\n",
    "CREATE TABLE EMP\r\n",
    "       (EMPNO integer CONSTRAINT PK_EMP PRIMARY KEY,\r\n",
    "        ENAME text,\r\n",
    "        JOB text,\r\n",
    "        MGR integer,\r\n",
    "        HIREDATE date,\r\n",
    "        SAL integer,\r\n",
    "        COMM integer,\r\n",
    "        DEPTNO integer CONSTRAINT FK_DEPTNO REFERENCES DEPT);\r\n",
    "INSERT INTO DEPT VALUES (10,'ACCOUNTING','LOGROÑO');\r\n",
    "INSERT INTO DEPT VALUES (20,'RESEARCH','MADRID');\r\n",
    "INSERT INTO DEPT VALUES (30,'SALES','BUENOS AIRES');\r\n",
    "INSERT INTO DEPT VALUES (40,'OPERATIONS','MEXICO D.F.');\r\n",
    "INSERT INTO EMP VALUES (3500,'SONIA GONZALEZ','DIRECTOR',3500,to_date('1-01-2001','dd-mm-yyyy'),3000,NULL,40);\r\n",
    "INSERT INTO EMP VALUES (3501,'PEDRO PEREZ','COMERCIAL',3500,to_date('3-12-2003','dd-mm-yyyy'),2900,NULL,30);\r\n",
    "INSERT INTO EMP VALUES (3502,'DENISSE LOMAS','INVESTIGADOR SENIOR',3501,to_date('3-12-2003','dd-mm-yyyy'),2900,NULL,20);\r\n",
    "INSERT INTO EMP VALUES (3503,'FORD LOMAS','ADMINISTRATIVO',3500,to_date('23-1-2021','dd-mm-yyyy'),1300,NULL,10);"
   ],
   "outputs": [],
   "metadata": {}
  },
  {
   "cell_type": "markdown",
   "source": [
    "## PSQL special commands\n",
    "\n",
    "Thanks to the PGspecial plug-in, 'backslash' commands can be used"
   ],
   "metadata": {}
  },
  {
   "cell_type": "code",
   "execution_count": null,
   "source": [
    "%sql \\dt"
   ],
   "outputs": [],
   "metadata": {}
  },
  {
   "cell_type": "markdown",
   "source": [
    "### Make a query to retrieve some rows with SQL\n",
    "\n",
    "Bind variables can be used in the query statements!"
   ],
   "metadata": {}
  },
  {
   "cell_type": "code",
   "execution_count": null,
   "source": [
    "deptno=10\r\n",
    "%sql select * from DEPT join EMP using (DEPTNO) where deptno=:deptno"
   ],
   "outputs": [],
   "metadata": {}
  },
  {
   "cell_type": "markdown",
   "source": [
    "By default, the output is nicely formated in an HTML table\n",
    "\n",
    "The previous result is accessible with `_` and can be displayed as an ASCII table"
   ],
   "metadata": {}
  },
  {
   "cell_type": "code",
   "execution_count": null,
   "source": [
    "print(_)"
   ],
   "outputs": [],
   "metadata": {}
  },
  {
   "cell_type": "markdown",
   "source": [
    "### Access to the first row:"
   ],
   "metadata": {}
  },
  {
   "cell_type": "code",
   "execution_count": null,
   "source": [
    "print(_[0])"
   ],
   "outputs": [],
   "metadata": {}
  },
  {
   "cell_type": "markdown",
   "source": [
    "### Display the column names:"
   ],
   "metadata": {}
  },
  {
   "cell_type": "code",
   "execution_count": null,
   "source": [
    "print(_.keys)"
   ],
   "outputs": [],
   "metadata": {}
  },
  {
   "cell_type": "markdown",
   "source": [
    "### Access to one column by index or by name:"
   ],
   "metadata": {}
  },
  {
   "cell_type": "code",
   "execution_count": null,
   "source": [
    "print(_[0][4])\r\n",
    "print(_[0]['hiredate'])"
   ],
   "outputs": [],
   "metadata": {}
  },
  {
   "cell_type": "markdown",
   "source": [
    "### Graphical displays\r\n",
    "\r\n",
    "Using python mathplotlib library, and some functions like .plot(), .pie(), and .bar(), the Runbook can also shown graphical displays to help us."
   ],
   "metadata": {}
  },
  {
   "cell_type": "code",
   "execution_count": null,
   "source": [
    "r=%sql select dname,avg(sal) from DEPT join EMP using (DEPTNO) group by dname\r\n",
    "%matplotlib inline\r\n",
    "r.bar()"
   ],
   "outputs": [],
   "metadata": {}
  },
  {
   "cell_type": "markdown",
   "source": [
    "**Enjoy it!!!**"
   ],
   "metadata": {}
  }
 ],
 "metadata": {
  "kernelspec": {
   "display_name": "Python 3",
   "language": "python",
   "name": "python3"
  },
  "language_info": {
   "codemirror_mode": {
    "name": "ipython",
    "version": 3
   },
   "file_extension": ".py",
   "mimetype": "text/x-python",
   "name": "python",
   "nbconvert_exporter": "python",
   "pygments_lexer": "ipython3",
   "version": "3.8.6"
  }
 },
 "nbformat": 4,
 "nbformat_minor": 2
}