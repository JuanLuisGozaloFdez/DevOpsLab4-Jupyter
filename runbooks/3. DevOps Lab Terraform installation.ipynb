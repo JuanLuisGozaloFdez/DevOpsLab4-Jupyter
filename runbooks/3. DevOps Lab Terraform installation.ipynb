{
 "cells": [
  {
   "cell_type": "markdown",
   "source": [
    "# DevOpsLab Jupyter: Notebook example\r\n",
    "\r\n",
    "## Terraform Installation runbook\r\n",
    "\r\n",
    "### Objective\r\n",
    "\r\n",
    "Run this runbook to install Terraform in a system\r\n",
    "\r\n",
    "### Steps to ckeck\r\n",
    "\r\n",
    "1. Connect to system\r\n",
    "2. Verify if Terraform is running\r\n",
    "\r\n",
    "The script will show a menu to select the Operation System objective for the installation and it will execute the appropiate command to start the installation (NOTE: Installaion will not be completed. Just for demo lab purpose.)"
   ],
   "metadata": {}
  },
  {
   "cell_type": "code",
   "execution_count": null,
   "source": [
    "import sys # this allows you to use the sys.exit command to quit/logout of the application\r\n",
    "\r\n",
    "def menu():\r\n",
    "    print(\"******* TERRAFORM INSTALATION RUNBOOK EXAMPLE *********\")\r\n",
    "    #time.sleep(1)\r\n",
    "    print()\r\n",
    "\r\n",
    "    choice = input(\"\"\"\r\n",
    "                      A: Linux 64bits\r\n",
    "                      B: Linux ARM64\r\n",
    "                      C: Windows 64bits\r\n",
    "                      Q: Salir\r\n",
    "\r\n",
    "                      Por favor, elija el sistema operativo sobre el que instalar: \"\"\")\r\n",
    "\r\n",
    "    if choice == \"A\" or choice ==\"a\":\r\n",
    "        doGetLinux64()      \r\n",
    "    elif choice == \"B\" or choice ==\"b\":\r\n",
    "        doGetLinuxARM64()\r\n",
    "    elif choice == \"C\" or choice ==\"c\":\r\n",
    "        doGetWindows64()\r\n",
    "    elif choice==\"Q\" or choice==\"q\":\r\n",
    "        sys.exit\r\n",
    "    else:\r\n",
    "        print(\"Debe elegir una de estas opciones: A,B o C\")\r\n",
    "        print(\"Intentelo de nuevo\")\r\n",
    "        menu()\r\n",
    "\r\n",
    "def doGetLinux64():\r\n",
    "    !wget https://releases.hashicorp.com/terraform/0.14.5/terraform_0.14.5_linux_amd64.zip\r\n",
    "    # !unzip terraform_0.14.5_linux_amd64.zip\r\n",
    "    # !./terraform init    \r\n",
    "    pass\r\n",
    "    \r\n",
    "def doGetLinuxARM64():\r\n",
    "    !wget https://releases.hashicorp.com/terraform/0.14.5/terraform_0.14.5_linux_arm64.zip\r\n",
    "    # !unzip terraform_0.14.5_linux_arm64.zip\r\n",
    "    # !./terraform init    \r\n",
    "    pass\r\n",
    "\r\n",
    "def doGetWindows64():\r\n",
    "    !curl -O https://releases.hashicorp.com/terraform/0.14.5/terraform_0.14.5_windows_amd64.zip\r\n",
    "    # !unzip terraform_0.14.5_windows_amd64.zip\r\n",
    "    # !./terraform init    \r\n",
    "    pass\r\n",
    "\r\n",
    "#empezar\r\n",
    "menu()\r\n"
   ],
   "outputs": [],
   "metadata": {}
  }
 ],
 "metadata": {
  "kernelspec": {
   "display_name": "Python 3",
   "language": "python",
   "name": "python3"
  },
  "language_info": {
   "codemirror_mode": {
    "name": "ipython",
    "version": 3
   },
   "file_extension": ".py",
   "mimetype": "text/x-python",
   "name": "python",
   "nbconvert_exporter": "python",
   "pygments_lexer": "ipython3",
   "version": "3.8.6"
  }
 },
 "nbformat": 4,
 "nbformat_minor": 4
}