{
 "cells": [
  {
   "cell_type": "markdown",
   "metadata": {},
   "source": [
    "# DevOpsLab Jupyter: Notebook example\n",
    "## Terraform Installation runbook"
   ]
  },
  {
   "cell_type": "markdown",
   "metadata": {},
   "source": [
    "### Objective\n",
    "\n",
    "Run this runbook to install Terraform in a system\n",
    "\n",
    "### Steps to ckeck\n",
    "\n",
    "1. Connect to system\n",
    "2. Verify if Terraform is running\n",
    "\n",
    "The script will show a menu to select the Operation System objective for the installation and it will execute the appropiate command."
   ]
  },
  {
   "cell_type": "markdown",
   "metadata": {},
   "source": []
  },
  {
   "cell_type": "code",
   "execution_count": null,
   "metadata": {},
   "outputs": [],
   "source": [
    "import sys # this allows you to use the sys.exit command to quit/logout of the application\n",
    "\n",
    "def menu():\n",
    "    print(\"******* TERRAFORM INSTALATION RUNBOOK EXAMPLE *********\")\n",
    "    #time.sleep(1)\n",
    "    print()\n",
    "\n",
    "    choice = input(\"\"\"\n",
    "                      A: Linux 64bits\n",
    "                      B: Linux ARM64\n",
    "                      C: Windows 64bits\n",
    "                      Q: Salir\n",
    "\n",
    "                      Por favor, elija el sistema operativo sobre el que instalar: \"\"\")\n",
    "\n",
    "    if choice == \"A\" or choice ==\"a\":\n",
    "        doLinux64()\n",
    "    elif choice == \"B\" or choice ==\"b\":\n",
    "        doLinuxARM64()\n",
    "    elif choice == \"C\" or choice ==\"c\":\n",
    "        doWindows64()\n",
    "    elif choice==\"Q\" or choice==\"q\":\n",
    "        sys.exit\n",
    "    else:\n",
    "        print(\"Debe elegir una de estas opciones: A,B o C\")\n",
    "        print(\"Intentelo de nuevo\")\n",
    "        menu()\n",
    "\n",
    "def doLinux64():\n",
    "    !wget https://releases.hashicorp.com/terraform/0.14.5/terraform_0.14.5_linux_amd64.zip\n",
    "    pass\n",
    "    \n",
    "def doLinuxARM64():\n",
    "    !wget https://releases.hashicorp.com/terraform/0.14.5/terraform_0.14.5_linux_arm64.zip\n",
    "    pass\n",
    "\n",
    "def doWindows64():\n",
    "    !curl -O https://releases.hashicorp.com/terraform/0.14.5/terraform_0.14.5_windows_amd64.zip\n",
    "    pass\n",
    "\n",
    "#empezar\n",
    "menu()\n"
   ]
  },
  {
   "cell_type": "code",
   "execution_count": null,
   "metadata": {},
   "outputs": [],
   "source": []
  }
 ],
 "metadata": {
  "kernelspec": {
   "display_name": "Python 3",
   "language": "python",
   "name": "python3"
  },
  "language_info": {
   "codemirror_mode": {
    "name": "ipython",
    "version": 3
   },
   "file_extension": ".py",
   "mimetype": "text/x-python",
   "name": "python",
   "nbconvert_exporter": "python",
   "pygments_lexer": "ipython3",
   "version": "3.8.6"
  }
 },
 "nbformat": 4,
 "nbformat_minor": 4
}