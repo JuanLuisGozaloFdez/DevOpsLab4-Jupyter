{
 "cells": [
  {
   "cell_type": "code",
   "execution_count": null,
   "source": [
    "import math\r\n",
    "import json"
   ],
   "outputs": [],
   "metadata": {}
  },
  {
   "cell_type": "code",
   "execution_count": null,
   "source": [
    "# GET /convert\r\n",
    "req = json.loads(REQUEST)\r\n",
    "args = req['args']\r\n",
    "\r\n",
    "if 'angle' not in args:\r\n",
    "  print(json.dumps({'convertedAngle': None}))\r\n",
    "else:\r\n",
    "  # Note the [0] when retrieving the argument.\r\n",
    "  # This is because you could potentially pass multiple angles.\r\n",
    "  angle = int(args['angle'][0])\r\n",
    "  converted = math.radians(angle)\r\n",
    "  print(json.dumps({'convertedAngle': converted}))"
   ],
   "outputs": [],
   "metadata": {}
  }
 ],
 "metadata": {
  "kernelspec": {
   "display_name": "Python 3",
   "language": "python",
   "name": "python3"
  },
  "language_info": {
   "codemirror_mode": {
    "name": "ipython",
    "version": 3
   },
   "file_extension": ".py",
   "mimetype": "text/x-python",
   "name": "python",
   "nbconvert_exporter": "python",
   "pygments_lexer": "ipython3",
   "version": "3.8.6"
  }
 },
 "nbformat": 4,
 "nbformat_minor": 4
}