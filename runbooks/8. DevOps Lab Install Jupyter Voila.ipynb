{
 "cells": [
  {
   "cell_type": "markdown",
   "metadata": {},
   "source": [
    "# DevOpsLab Jupyter: Notebook example\n",
    "## Installing Jupyter Voilà with a runbook"
   ]
  },
  {
   "cell_type": "markdown",
   "metadata": {},
   "source": [
    "### Objective\n",
    "\n",
    "Run this runbook to install a fresh Jupyter Voilà installation\n",
    "\n",
    "### Steps to ckeck\n",
    "\n",
    "1. Connect to system\n",
    "2. Verify if Jupyter Voilà is installed\n"
   ]
  },
  {
   "cell_type": "code",
   "execution_count": null,
   "metadata": {},
   "outputs": [],
   "source": [
    "%%bash\n",
    "output=$(which voila | wc -l)\n",
    "if [ $output -eq 1 ]; then\n",
    "  echo \"Jupyter Voilà is already installed\"\n",
    "else\n",
    "  echo \"Jupyter Voilà is not installed\"\n",
    "fi"
   ]
  },
  {
   "cell_type": "markdown",
   "metadata": {},
   "source": [
    "### Steps to install\n",
    "\n",
    "1. Connect to system\n",
    "2. Install Jupyter Voilà using pip\n",
    "3. Verify if Jupyter Voilà is running"
   ]
  },
  {
   "cell_type": "code",
   "execution_count": null,
   "metadata": {},
   "outputs": [],
   "source": [
    "%%bash\n",
    "install_script=\"pip install voila\"\n",
    "output=$(which voila | wc -l)\n",
    "if [ $output -eq 1 ]; then\n",
    "  echo \"Jupyter Voilà is already installed\"\n",
    "else\n",
    "  $install_script\n",
    "  output=$(which voila | wc -l)\n",
    "  if [ $output -eq 1 ]; then\n",
    "    echo \"Jupyter Voilà has been installed\"\n",
    "  else\n",
    "    echo \"And error have happened installing Voilà!!!\"\n",
    "  fi\n",
    "fi"
   ]
  }
 ],
 "metadata": {
  "kernelspec": {
   "display_name": "Python 3",
   "language": "python",
   "name": "python3"
  },
  "language_info": {
   "codemirror_mode": {
    "name": "ipython",
    "version": 3
   },
   "file_extension": ".py",
   "mimetype": "text/x-python",
   "name": "python",
   "nbconvert_exporter": "python",
   "pygments_lexer": "ipython3",
   "version": "3.8.6"
  }
 },
 "nbformat": 4,
 "nbformat_minor": 4
}