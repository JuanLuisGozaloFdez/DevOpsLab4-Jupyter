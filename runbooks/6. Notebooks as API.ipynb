{
 "cells": [
  {
   "cell_type": "markdown",
   "source": [
    "# DevOpsLab Jupyter: Notebook example\r\n",
    "\r\n",
    "## Jupyter Notebook as an API book\r\n",
    "\r\n",
    "### Installation\r\n",
    "\r\n",
    "**Assumptions**: Jupyter already installed in your server.\r\n",
    "\r\n",
    "First install the kernel_gateway:"
   ],
   "metadata": {}
  },
  {
   "cell_type": "markdown",
   "source": [
    "*pip install jupyter_kernel_gateway*\r\n",
    "\r\n",
    "*jupyter kernelgateway --generate-config*"
   ],
   "metadata": {}
  },
  {
   "cell_type": "markdown",
   "source": [
    "If you want your api to be accessible from other computers, edit the ~/.jupyter/jupyter_kernel_gateway_config.py file.\n",
    "\n",
    "And change the line \"# c.KernelGatewayApp.ip = '127.0.0.1'\" with \"c.KernelGatewayApp.ip = '*'\", uncommented."
   ],
   "metadata": {}
  },
  {
   "cell_type": "markdown",
   "source": [
    "### How it is works"
   ],
   "metadata": {}
  },
  {
   "cell_type": "markdown",
   "source": [
    "When your code is ready, you must register in the KernelGateway using \n",
    "$jupyter kernelgateway --KernelGatewayApp.api='kernel_gateway.notebook_http' --KernelGatewayApp.seed_uri='/runbooks/ExampleNotebookAPI.ipynb'"
   ],
   "metadata": {}
  },
  {
   "cell_type": "markdown",
   "source": [
    "### API Code"
   ],
   "metadata": {}
  },
  {
   "cell_type": "markdown",
   "source": [
    "Prepare the notebook to be an API for this example, removing all the text cells (***just left the code cells***).\n",
    "\n",
    "The next cell will be executed with all the initialization that are required for the process\n",
    "\n",
    "The file where the API is located (this file) MUST be named with the same name that api name (i.e. CONVERT)\n",
    "This API requires a parameter to be passed but, in this example, there is no verification of that. (something you can improve ;-)) "
   ],
   "metadata": {}
  },
  {
   "cell_type": "code",
   "execution_count": null,
   "source": [
    "import math\r\n",
    "import json"
   ],
   "outputs": [],
   "metadata": {}
  },
  {
   "cell_type": "code",
   "execution_count": null,
   "source": [
    "# GET /convert\r\n",
    "req = json.loads(REQUEST)\r\n",
    "args = req['args']\r\n",
    "\r\n",
    "if 'angle' not in args:\r\n",
    "  print(json.dumps({'convertedAngle': None}))\r\n",
    "else:\r\n",
    "  # Note the [0] when retrieving the argument.\r\n",
    "  # This is because you could potentially pass multiple angles.\r\n",
    "  angle = int(args['angle'][0])\r\n",
    "  converted = math.radians(angle)\r\n",
    "  print(json.dumps({'convertedAngle': converted}))"
   ],
   "outputs": [],
   "metadata": {}
  }
 ],
 "metadata": {
  "kernelspec": {
   "display_name": "Python 3",
   "language": "python",
   "name": "python3"
  },
  "language_info": {
   "codemirror_mode": {
    "name": "ipython",
    "version": 3
   },
   "file_extension": ".py",
   "mimetype": "text/x-python",
   "name": "python",
   "nbconvert_exporter": "python",
   "pygments_lexer": "ipython3",
   "version": "3.8.6"
  }
 },
 "nbformat": 4,
 "nbformat_minor": 4
}