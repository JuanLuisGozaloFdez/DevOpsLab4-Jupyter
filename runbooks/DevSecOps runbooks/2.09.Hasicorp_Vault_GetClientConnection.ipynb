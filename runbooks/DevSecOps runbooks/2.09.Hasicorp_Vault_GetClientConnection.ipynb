{
 "cells": [
  {
   "cell_type": "markdown",
   "id": "changing-thought",
   "metadata": {},
   "source": [
    "# WORK IN PROGRESS\n",
    "# Hasicorp Vault Library Installation\n",
    "## DevOpsLab Example\n",
    "\n",
    "### Prerequisite tasks\n",
    "To set up and run this example, you must first set up the following:\n",
    "- Install hvac library and Server Vault running"
   ]
  },
  {
   "cell_type": "markdown",
   "id": "residential-stations",
   "metadata": {},
   "source": [
    "### Connect to target system (optional)"
   ]
  },
  {
   "cell_type": "code",
   "execution_count": null,
   "id": "comparable-inquiry",
   "metadata": {},
   "outputs": [],
   "source": [
    "%run \"0.0. Connect to the target system.ipynb\""
   ]
  },
  {
   "cell_type": "markdown",
   "id": "cardiovascular-release",
   "metadata": {},
   "source": [
    "### NOT COMPLETED - Test a connection to server with the hvac library in a local server"
   ]
  },
  {
   "cell_type": "code",
   "execution_count": null,
   "id": "adverse-pressing",
   "metadata": {},
   "outputs": [],
   "source": [
    "import hvac\n",
    "client = hvac.Client(url='https://localhost:8200')\n",
    "client.is_authenticated()"
   ]
  },
  {
   "cell_type": "code",
   "execution_count": null,
   "id": "above-thomas",
   "metadata": {},
   "outputs": [],
   "source": []
  }
 ],
 "metadata": {
  "kernelspec": {
   "display_name": "Python 3",
   "language": "python",
   "name": "python3"
  },
  "language_info": {
   "codemirror_mode": {
    "name": "ipython",
    "version": 3
   },
   "file_extension": ".py",
   "mimetype": "text/x-python",
   "name": "python",
   "nbconvert_exporter": "python",
   "pygments_lexer": "ipython3",
   "version": "3.6.9"
  }
 },
 "nbformat": 4,
 "nbformat_minor": 5
}
