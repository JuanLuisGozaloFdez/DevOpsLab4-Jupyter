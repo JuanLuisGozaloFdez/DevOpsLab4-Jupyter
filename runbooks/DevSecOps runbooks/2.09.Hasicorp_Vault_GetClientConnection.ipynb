{
 "cells": [
  {
   "cell_type": "markdown",
   "source": [
    "# Hasicorp Vault Library Usage\r\n",
    "## DevOpsLab Example\r\n",
    "\r\n",
    "### Prerequisite tasks\r\n",
    "To set up and run this example, you must first set up the following:\r\n",
    "- Install hvac library and Server Vault running"
   ],
   "metadata": {}
  },
  {
   "cell_type": "markdown",
   "source": [
    "### Connect to target system (optional)"
   ],
   "metadata": {}
  },
  {
   "cell_type": "code",
   "execution_count": null,
   "source": [
    "%run \"0.0. Connect to the target system.ipynb\""
   ],
   "outputs": [],
   "metadata": {}
  },
  {
   "cell_type": "markdown",
   "source": [
    "## Test a connection to server with the hvac library in a local server\r\n",
    "\r\n",
    "### First, define some environment variables related to our own Vault Server"
   ],
   "metadata": {}
  },
  {
   "cell_type": "code",
   "execution_count": null,
   "source": [
    "%env VAULT_ADDR=http://127.0.0.1:8200 (please, substitute with your appropiate value)\r\n",
    "%env VAULT_TOKEN=x.ddasd23802342242 (please, substitute with your appropiate value)"
   ],
   "outputs": [],
   "metadata": {}
  },
  {
   "cell_type": "markdown",
   "source": [
    "### Test a connection to server with the hvac library in a local server and verify it"
   ],
   "metadata": {}
  },
  {
   "cell_type": "markdown",
   "source": [
    "Make a connection to the Hvac server with the environment variables (VAULT_ADDR and VAULT_TOKEN).\r\n",
    "\r\n",
    "**Expected result**: A succesful connection and therefore a valid Hvac client.\r\n"
   ],
   "metadata": {}
  },
  {
   "cell_type": "code",
   "execution_count": null,
   "source": [
    "import os\r\n",
    "import hvac\r\n",
    "\r\n",
    "def connect():\r\n",
    "    '''\r\n",
    "    Connect to the vault server and return the connected vault client instance.\r\n",
    "    '''\r\n",
    "    url = os.environ.get('VAULT_ADDR')\r\n",
    "    token = os.environ.get('VAULT_TOKEN')\r\n",
    "\r\n",
    "    if not url or not token:\r\n",
    "        print(\r\n",
    "            'Failed connecting to vault. ' +\r\n",
    "            '`VAULT_ADDR` and `VAULT_TOKEN` must be set in your environment.'\r\n",
    "        )\r\n",
    "    else :\r\n",
    "        print('Connecting to vault server and trying to return a valid client object')\r\n",
    "        return hvac.Client(url=url, token=token) "
   ],
   "outputs": [],
   "metadata": {}
  },
  {
   "cell_type": "markdown",
   "source": [
    "Invoking this little function, we could obtain a valid connection to be used later in the examples.\r\n",
    "\r\n",
    "**Expected result**: a Client Hvac object definition with version 1 or 2 like \"<hvac.v1.Client at 0x7eff48129908>\"\r\n"
   ],
   "metadata": {}
  },
  {
   "cell_type": "code",
   "execution_count": null,
   "source": [
    "import hvac\r\n",
    "client = connect()"
   ],
   "outputs": [],
   "metadata": {}
  },
  {
   "cell_type": "markdown",
   "source": [
    "### Test if the client has been properly authenticated in the defined vault server\r\n",
    "\r\n",
    "By invoking this function we could verify if the authentication has been properly done.\r\n",
    "\r\n",
    "**Expected result**: True (if authenticated)"
   ],
   "metadata": {}
  },
  {
   "cell_type": "code",
   "execution_count": null,
   "source": [
    "import hvac\r\n",
    "client.is_authenticated()"
   ],
   "outputs": [],
   "metadata": {}
  },
  {
   "cell_type": "code",
   "execution_count": null,
   "source": [],
   "outputs": [],
   "metadata": {}
  }
 ],
 "metadata": {
  "kernelspec": {
   "display_name": "Python 3",
   "language": "python",
   "name": "python3"
  },
  "language_info": {
   "codemirror_mode": {
    "name": "ipython",
    "version": 3
   },
   "file_extension": ".py",
   "mimetype": "text/x-python",
   "name": "python",
   "nbconvert_exporter": "python",
   "pygments_lexer": "ipython3",
   "version": "3.6.9"
  }
 },
 "nbformat": 4,
 "nbformat_minor": 5
}