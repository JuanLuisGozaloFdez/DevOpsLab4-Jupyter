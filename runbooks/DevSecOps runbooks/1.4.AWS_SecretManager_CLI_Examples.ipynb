{
 "cells": [
  {
   "cell_type": "markdown",
   "metadata": {},
   "source": [
    "# AWS Secret Management\n",
    "\n",
    "## Prerequisite tasks\n",
    "\n",
    "To set up and run this example, you must first set up the following:\n",
    "\n",
    "1. Install AWS CLI 2 as described in the **\"1.0.AWS_CLI_2_Installation\"** notebook.\n",
    "2. Configure your AWS credentials, as described in [Quickstart](https://boto3.amazonaws.com/v1/documentation/api/latest/guide/quickstart.html) using the AWS CLI or the AWS Console IAM Manager.\n",
    "3. Run locally the \"aws configure\" from the console to store locally your credentials to connect to AWS using the CLI.\n",
    "   - Input your \"AWS Access Key ID\" and \"AWS Secret Access Key\" and \"Default region name\".\n",
    "   - This will create a directory \".aws\" and the files \"config\" and \"credentials\" (you must edit later if required).\n",
    "4. Create a secret with the AWS Secrets Manager, as described in the [AWS Secrets Manager Developer Guide](https://docs.aws.amazon.com/secretsmanager/latest/userguide/manage_create-basic-secret.html) and it has been described in the Lab.\n",
    "5. Install boto3 library in your environment as described in the **\"1.1.AWS_Boto3_Installation\"** notebook (if it is not already done)\n",
    "6. Modify the parameters \"secret_name\" and \"region_name\" to set your own data in the next cell code for this example.\n",
    "  \n",
    "**NOTE**: Boto3 will also search the ~/.aws/config file when looking for configuration values. You can change the location of this file by setting the AWS_CONFIG_FILE environment variable.\n",
    "**NOTE**: The credential file has your AWS Keys so must not be located in a public source control repository.\n"
   ]
  },
  {
   "cell_type": "markdown",
   "id": "37e8b05c",
   "metadata": {},
   "source": [
    "### Create a secret directly from command line"
   ]
  },
  {
   "cell_type": "code",
   "execution_count": null,
   "id": "79a25d94",
   "metadata": {},
   "outputs": [],
   "source": [
    "!aws secretsmanager create-secret --name MyOneTestSecret --description \"One test secret created with the CLI\" \\\n",
    "    --secret-string \"{\\\"user\\\":\\\"auseridentifier\\\",\\\"password\\\":\\\"TEST-PASSWORD\\\"}\""
   ]
  },
  {
   "cell_type": "markdown",
   "id": "9ade3dc1",
   "metadata": {},
   "source": [
    "### Create a secret from a json file"
   ]
  },
  {
   "cell_type": "markdown",
   "id": "368749f0",
   "metadata": {},
   "source": [
    "Let's assume we have a file named \"thetestfileforcred.json\" in our directory with the key-values to store in the KMS. (here we will simulate with the writefile magic command)."
   ]
  },
  {
   "cell_type": "code",
   "execution_count": null,
   "id": "ec9d809c",
   "metadata": {},
   "outputs": [],
   "source": [
    "%%writefile thetestfileforcred.json\n",
    "{\n",
    "  \"engine\": \"s3\",\n",
    "  \"username\": \"onejsonexampleuser\",\n",
    "  \"password\": \"EXAMPLE-JSON-PASSWORD\",\n",
    "  \"host\": \"the-s3-machine-address.us-west-2.s3.amazonaws.com\",\n",
    "  \"dbname\": \"s3bucketexample\"  \n",
    "}"
   ]
  },
  {
   "cell_type": "code",
   "execution_count": null,
   "id": "1e03667e",
   "metadata": {},
   "outputs": [],
   "source": [
    "!aws secretsmanager create-secret --name MyOneJsonTestSecret --secret-string file://thetestfileforcred.json"
   ]
  },
  {
   "cell_type": "markdown",
   "id": "8bb36f1b",
   "metadata": {},
   "source": [
    "### List secrets"
   ]
  },
  {
   "cell_type": "code",
   "execution_count": null,
   "metadata": {},
   "outputs": [],
   "source": [
    "!aws secretsmanager list-secrets"
   ]
  },
  {
   "cell_type": "markdown",
   "metadata": {},
   "source": [
    "and finally, let's deleting some secrets by AWS cli interface"
   ]
  },
  {
   "cell_type": "code",
   "execution_count": null,
   "metadata": {},
   "outputs": [],
   "source": [
    "!aws secretsmanager delete-secret --secret-id MyOneTestSecret --recovery-window-in-days 7 "
   ]
  },
  {
   "cell_type": "markdown",
   "metadata": {},
   "source": [
    "with the recovery window period, it is still possible to restore the secret"
   ]
  },
  {
   "cell_type": "code",
   "execution_count": null,
   "metadata": {},
   "outputs": [],
   "source": [
    "!aws secretsmanager restore-secret --secret-id MyOneTestSecret"
   ]
  },
  {
   "cell_type": "markdown",
   "id": "94059ca0",
   "metadata": {},
   "source": [
    "let's deleting some secrets by AWS cli interface with no recovery-window parameter (default)"
   ]
  },
  {
   "cell_type": "code",
   "execution_count": null,
   "id": "6a9ac95e",
   "metadata": {},
   "outputs": [],
   "source": [
    "!aws secretsmanager delete-secret --secret-id MyOneTestSecret"
   ]
  },
  {
   "cell_type": "code",
   "execution_count": null,
   "id": "048887db",
   "metadata": {},
   "outputs": [],
   "source": [
    "!aws secretsmanager restore-secret --secret-id MyOneTestSecret"
   ]
  }
 ],
 "metadata": {
  "kernelspec": {
   "display_name": "Python 3",
   "language": "python",
   "name": "python3"
  },
  "language_info": {
   "codemirror_mode": {
    "name": "ipython",
    "version": 3
   },
   "file_extension": ".py",
   "mimetype": "text/x-python",
   "name": "python",
   "nbconvert_exporter": "python",
   "pygments_lexer": "ipython3",
   "version": "3.6.9"
  }
 },
 "nbformat": 4,
 "nbformat_minor": 5
}
