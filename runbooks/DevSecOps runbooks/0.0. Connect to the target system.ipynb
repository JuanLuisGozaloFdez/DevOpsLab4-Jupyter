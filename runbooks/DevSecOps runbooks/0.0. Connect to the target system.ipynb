{
 "cells": [
  {
   "cell_type": "markdown",
   "id": "naked-opportunity",
   "metadata": {},
   "source": [
    "# Connect to the target system"
   ]
  },
  {
   "cell_type": "markdown",
   "id": "finished-ethernet",
   "metadata": {},
   "source": [
    "**Objective**:\n",
    "Make a connection to a target system when required."
   ]
  },
  {
   "cell_type": "markdown",
   "id": "backed-valley",
   "metadata": {},
   "source": [
    "Ask for the name of the target system and the username and password to connect.\n",
    "\n",
    "note: would it be also required a key file?"
   ]
  },
  {
   "cell_type": "code",
   "execution_count": null,
   "id": "enabling-bones",
   "metadata": {},
   "outputs": [],
   "source": [
    "import getpass\n",
    "target_host=input (\"Which is the hostname of the target machine? \")\n",
    "user=input (\"Which is your user to execute admin processes? \")\n",
    "password = getpass.getpass(\"Which is the password to use? \")"
   ]
  },
  {
   "cell_type": "code",
   "execution_count": null,
   "id": "retained-binding",
   "metadata": {},
   "outputs": [],
   "source": [
    "%store target_host\n",
    "%store user\n",
    "%store password"
   ]
  },
  {
   "cell_type": "code",
   "execution_count": null,
   "id": "alternate-equipment",
   "metadata": {},
   "outputs": [],
   "source": []
  }
 ],
 "metadata": {
  "kernelspec": {
   "name": "python3",
   "display_name": "Python 3.7.6 64-bit (conda)"
  },
  "language_info": {
   "codemirror_mode": {
    "name": "ipython",
    "version": 3
   },
   "file_extension": ".py",
   "mimetype": "text/x-python",
   "name": "python",
   "nbconvert_exporter": "python",
   "pygments_lexer": "ipython3",
   "version": "3.7.6-final"
  },
  "interpreter": {
   "hash": "b3ba2566441a7c06988d0923437866b63cedc61552a5af99d1f4fb67d367b25f"
  }
 },
 "nbformat": 4,
 "nbformat_minor": 5
}