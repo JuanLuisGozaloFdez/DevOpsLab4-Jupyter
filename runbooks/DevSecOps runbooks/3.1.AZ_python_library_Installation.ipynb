{
 "cells": [
  {
   "cell_type": "markdown",
   "metadata": {},
   "source": [
    "# AZ python library Installation\n",
    "## DevOpsLab Example\n",
    "\n",
    "### Prerequisite tasks\n",
    "To set up this example, you must first have *pip* installed in your system"
   ]
  },
  {
   "cell_type": "markdown",
   "metadata": {},
   "source": [
    "### Connect to target system (optional)"
   ]
  },
  {
   "cell_type": "code",
   "execution_count": null,
   "metadata": {},
   "outputs": [],
   "source": [
    "%run \"0.0. Connect to the target system.ipynb\""
   ]
  },
  {
   "cell_type": "markdown",
   "metadata": {},
   "source": [
    "### Install the azure python libraries"
   ]
  },
  {
   "cell_type": "markdown",
   "metadata": {},
   "source": [
    "Install the azure libraries using the *pip install azure-identity* and *pip install azure-keyvault-secrets*"
   ]
  },
  {
   "cell_type": "code",
   "execution_count": null,
   "metadata": {},
   "outputs": [],
   "source": [
    "%%bash -s \"$target_host\" \"$user\" \"$password\"\n",
    "if [ $(pip3 list|grep azure-identity|wc -l) == 1 ]\n",
    "then\n",
    "  echo \"azure-identity library already installed for this user\"\n",
    "else\n",
    "  echo \"Starting installation of azure-identity library for this user\"\n",
    "  # UNCOMMENT THIS IS YOU WANT TO INSTALL FOR SUDO USER: echo $3 | sudo -S -H pip3 install azure-identity\n",
    "  pip3 install azure-identity\n",
    "fi\n",
    "pip3 show azure-identity"
   ]
  },
  {
   "cell_type": "code",
   "execution_count": null,
   "id": "208c0ef0",
   "metadata": {},
   "outputs": [],
   "source": [
    "%%bash -s \"$target_host\" \"$user\" \"$password\"\n",
    "if [ $(pip3 list|grep azure-keyvault-secrets|wc -l) == 1 ]\n",
    "then\n",
    "  echo \"azure-keyvault-secrets library already installed for this user\"\n",
    "else\n",
    "  echo \"Starting installation of azure-keyvault-secrets library for this user\"\n",
    "  # UNCOMMENT THIS IS YOU WANT TO INSTALL FOR SUDO USER: echo $3 | sudo -S -H pip3 install azure-keyvault-secrets\n",
    "  pip3 install azure-keyvault-secrets\n",
    "fi\n",
    "pip3 show azure-keyvault-secrets"
   ]
  }
 ],
 "metadata": {
  "kernelspec": {
   "display_name": "Python 3",
   "language": "python",
   "name": "python3"
  },
  "language_info": {
   "codemirror_mode": {
    "name": "ipython",
    "version": 3
   },
   "file_extension": ".py",
   "mimetype": "text/x-python",
   "name": "python",
   "nbconvert_exporter": "python",
   "pygments_lexer": "ipython3",
   "version": "3.6.9"
  }
 },
 "nbformat": 4,
 "nbformat_minor": 5
}
