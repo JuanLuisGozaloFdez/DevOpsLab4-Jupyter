{
 "cells": [
  {
   "cell_type": "markdown",
   "id": "bf5f1f7e",
   "metadata": {},
   "source": [
    "# AZ CLI Installation\n",
    "## DevOpsLab Example\n",
    "\n",
    "This package must be installed prior to execute any AZ Secret Management operation from the command line\n",
    "\n",
    "### Prerequisite tasks\n",
    "- Knowing admin user and password for the target host (**NOT YET IN THIS NOTEBOOK VERSION**)\n",
    "- Knowing admin password for the target host (to install as Sudo user)\n",
    "- No other python dependencies are needed."
   ]
  },
  {
   "cell_type": "markdown",
   "id": "639e072c",
   "metadata": {},
   "source": [
    "### Connect to target system (optional)"
   ]
  },
  {
   "cell_type": "code",
   "execution_count": null,
   "id": "17919399",
   "metadata": {},
   "outputs": [],
   "source": [
    "%run \"0.0. Connect to the target system.ipynb\""
   ]
  },
  {
   "cell_type": "markdown",
   "id": "52c78992",
   "metadata": {},
   "source": [
    "### Install latest version of AZ CLI\n"
   ]
  },
  {
   "cell_type": "markdown",
   "id": "cde59637",
   "metadata": {},
   "source": [
    "Execute the following commands to download gpg Microsoft signature and the packages for the cli"
   ]
  },
  {
   "cell_type": "code",
   "execution_count": null,
   "id": "763ed8fe",
   "metadata": {},
   "outputs": [],
   "source": [
    "%%bash -s \"$target_host\" \"$user\" \"password\"\n",
    "cd\n",
    "if [ ! -d .azure ];\n",
    "  then \n",
    "    curl -sL https://aka.ms/InstallAzureCLIDeb > azurecli.installation\n",
    "    echo $3 | sudo bash azurecli.installation\n",
    "    rm azurecli.installation\n",
    "    echo \"azure cli installed\"\n",
    "  else\n",
    "    echo \"azure cli already installed\"\n",
    "fi\n",
    "az --version"
   ]
  }
 ],
 "metadata": {
  "kernelspec": {
   "display_name": "Python 3",
   "language": "python",
   "name": "python3"
  },
  "language_info": {
   "codemirror_mode": {
    "name": "ipython",
    "version": 3
   },
   "file_extension": ".py",
   "mimetype": "text/x-python",
   "name": "python",
   "nbconvert_exporter": "python",
   "pygments_lexer": "ipython3",
   "version": "3.6.9"
  }
 },
 "nbformat": 4,
 "nbformat_minor": 5
}
