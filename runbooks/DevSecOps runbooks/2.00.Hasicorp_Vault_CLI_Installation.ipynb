{
 "cells": [
  {
   "cell_type": "markdown",
   "source": [
    "# Hasicorp Vault CLI Installation\n",
    "## DevOpsLab Example\n",
    "\n",
    "This package must be installed prior to execute any Hasicorp Vault CLi operation from the command line or calls form API python library\n",
    "\n",
    "### Prerequisite tasks\n",
    "- Knowing admin user and password for the target hots (**NOT YET IN THIS NOTEBOOK VERSION**)\n",
    "- No other python dependencies are needed."
   ],
   "metadata": {}
  },
  {
   "cell_type": "markdown",
   "source": [
    "### Connect to target system (optional)"
   ],
   "metadata": {}
  },
  {
   "cell_type": "code",
   "execution_count": null,
   "source": [
    "%run \"0.0. Connect to the target system.ipynb\""
   ],
   "outputs": [],
   "metadata": {}
  },
  {
   "cell_type": "markdown",
   "source": [
    "### Install latest version of Hasicorp Vault"
   ],
   "metadata": {}
  },
  {
   "cell_type": "markdown",
   "source": [
    "Execute the following commands:\n",
    "\n",
    "- First, download and extract the hasicorp vault\n",
    "- Then, install it"
   ],
   "metadata": {}
  },
  {
   "cell_type": "code",
   "execution_count": null,
   "source": [
    "%%bash\r\n",
    "cd\r\n",
    "if [ ! -f vault_1.6.3_linux_amd64.zip ];\r\n",
    "  then \r\n",
    "    curl \"https://releases.hashicorp.com/vault/1.6.3/vault_1.6.3_linux_amd64.zip\" -o \"vault_1.6.3_linux_amd64.zip\"\r\n",
    "    echo \"file vault_1.6.3_linux_amd64.zip downloaded\"\r\n",
    "  else\r\n",
    "    echo \"File vault_1.6.3_linux_amd64.zip already downloaded.\"\r\n",
    "fi\r\n",
    "if [ ! -f ./vault ]\r\n",
    "  then\r\n",
    "    unzip vault_1.6.3_linux_amd64.zip\r\n",
    "    echo \"Vault extracted\"\r\n",
    "  else\r\n",
    "    echo \"Vault already extracted.\"\r\n",
    "fi"
   ],
   "outputs": [],
   "metadata": {}
  },
  {
   "cell_type": "code",
   "execution_count": null,
   "source": [
    "%%bash -s \"$target_host\" \"$user\" \"$password\"\r\n",
    "if [ ! -f ~/vault ];\r\n",
    "  then\r\n",
    "    unzip vault_1.6.3_linux_amd64.zip\r\n",
    "    #echo $3 | sudo -S ./vault/install\r\n",
    "    if [ $? -eq 0 ];\r\n",
    "      then \r\n",
    "        echo \"VAULT CLI succesfully installed\"\r\n",
    "    fi\r\n",
    "  else\r\n",
    "    echo \"VAULT ClI already installed\"\r\n",
    "fi\r\n",
    "#/usr/local/bin/vault --version\r\n",
    "~/vault --version"
   ],
   "outputs": [],
   "metadata": {
    "scrolled": true
   }
  }
 ],
 "metadata": {
  "kernelspec": {
   "display_name": "Python 3",
   "language": "python",
   "name": "python3"
  },
  "language_info": {
   "codemirror_mode": {
    "name": "ipython",
    "version": 3
   },
   "file_extension": ".py",
   "mimetype": "text/x-python",
   "name": "python",
   "nbconvert_exporter": "python",
   "pygments_lexer": "ipython3",
   "version": "3.6.9"
  }
 },
 "nbformat": 4,
 "nbformat_minor": 5
}