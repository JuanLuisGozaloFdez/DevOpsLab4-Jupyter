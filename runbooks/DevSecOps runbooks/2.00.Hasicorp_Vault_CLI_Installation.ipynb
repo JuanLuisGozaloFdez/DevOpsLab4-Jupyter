{
 "cells": [
  {
   "cell_type": "markdown",
   "metadata": {},
   "source": [
    "# Hasicorp Vault CLI Installation\n",
    "## DevOpsLab Example\n",
    "\n",
    "This package must be installed prior to execute any Hasicorp Vault CLi operation from the command line or calls form API python library\n",
    "\n",
    "### Prerequisite tasks\n",
    "- Knowing admin user and password for the target hots (**NOT YET IN THIS NOTEBOOK VERSION**)\n",
    "- No other python dependencies are needed."
   ]
  },
  {
   "cell_type": "markdown",
   "metadata": {},
   "source": [
    "### Connect to target system (optional)"
   ]
  },
  {
   "cell_type": "code",
   "execution_count": null,
   "metadata": {},
   "outputs": [],
   "source": [
    "%run \"0.0. Connect to the target system.ipynb\""
   ]
  },
  {
   "cell_type": "markdown",
   "metadata": {},
   "source": [
    "### Install latest version of Hasicorp Vault"
   ]
  },
  {
   "cell_type": "markdown",
   "metadata": {},
   "source": [
    "Execute the following commands:\n",
    "\n",
    "- First, download the hasicorp vault zip file\n",
    "- Then, extract the files\n",
    "- Finally, install it"
   ]
  },
  {
   "cell_type": "code",
   "execution_count": null,
   "metadata": {},
   "outputs": [],
   "source": [
    "%%bash\n",
    "cd\n",
    "if [ ! -f vault_1.6.3_linux_amd64.zip ];\n",
    "  then \n",
    "    curl \"https://releases.hashicorp.com/vault/1.6.3/vault_1.6.3_linux_amd64.zip\" -o \"vault_1.6.3_linux_amd64.zip\"\n",
    "    echo \"file vault_1.6.3_linux_amd64.zip downloaded\"\n",
    "  else\n",
    "    echo \"File vault_1.6.3_linux_amd64.zip already downloaded.\"\n",
    "fi"
   ]
  },
  {
   "cell_type": "code",
   "execution_count": null,
   "id": "dfdcb24f",
   "metadata": {},
   "outputs": [],
   "source": [
    "%%bash\n",
    "cd\n",
    "if [ ! -f ./vault ]\n",
    "  then\n",
    "    unzip vault_1.6.3_linux_amd64.zip\n",
    "    echo \"Vault extracted\"\n",
    "  else\n",
    "    echo \"Vault already extracted.\"\n",
    "fi"
   ]
  },
  {
   "cell_type": "code",
   "execution_count": null,
   "metadata": {
    "scrolled": true
   },
   "outputs": [],
   "source": [
    "%%bash -s \"$target_host\" \"$user\" \"$password\"\n",
    "if [ ! -f ~/vault ];\n",
    "  then\n",
    "    unzip vault_1.6.3_linux_amd64.zip\n",
    "    #echo $3 | sudo -S ./vault/install\n",
    "    if [ $? -eq 0 ];\n",
    "      then \n",
    "        echo \"VAULT CLI succesfully installed\"\n",
    "    fi\n",
    "  else\n",
    "    echo \"VAULT ClI already installed\"\n",
    "fi\n",
    "#/usr/local/bin/vault --version\n",
    "~/vault --version"
   ]
  }
 ],
 "metadata": {
  "kernelspec": {
   "display_name": "Python 3",
   "language": "python",
   "name": "python3"
  },
  "language_info": {
   "codemirror_mode": {
    "name": "ipython",
    "version": 3
   },
   "file_extension": ".py",
   "mimetype": "text/x-python",
   "name": "python",
   "nbconvert_exporter": "python",
   "pygments_lexer": "ipython3",
   "version": "3.6.9"
  }
 },
 "nbformat": 4,
 "nbformat_minor": 5
}
