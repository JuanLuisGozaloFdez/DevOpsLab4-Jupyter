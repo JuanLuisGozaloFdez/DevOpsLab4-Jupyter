{
 "cells": [
  {
   "cell_type": "markdown",
   "metadata": {},
   "source": [
    "# Hasicorp Vault Management\n",
    "## DevOpsLab Example\n",
    "\n",
    "Some examples to use programatically a Hasicorp Vault server for basic operations\n",
    "\n",
    "### Prerequisite tasks\n",
    "To set up and run this example, you must first set up the following:\n",
    "\n",
    "- Configure your Hasicorp Vault server using **2.01.Hasicorp_Vault_Server_Installation.ipynb** notebook\n",
    "- (optional if you want to verify: Install Hasicorp Vault CLI using **2.00.Hasicorp_Vault_CLI_Installation.ipynb** noteboook)\n",
    "- Install the Hvac library in your environment using **2.08.Hasicorp_Vault_Hvac_Library_Installation.ipynb** notebook\n"
   ]
  },
  {
   "cell_type": "code",
   "execution_count": null,
   "metadata": {},
   "outputs": [],
   "source": [
    "%%bash\n",
    "# (please, substitute with your appropiate value)\n",
    "export VAULT_ADDR=http://127.0.0.1:8200\n",
    "# (please, substitute with your appropiate value)\n",
    "export VAULT_TOKEN=x.ddasd23802342242"
   ]
  },
  {
   "cell_type": "code",
   "execution_count": null,
   "metadata": {},
   "outputs": [],
   "source": [
    "# (please, substitute with your appropiate value)\n",
    "%env VAULT_ADDR=http://127.0.0.1:8200\n",
    "# (please, substitute with your appropiate value)\n",
    "%env VAULT_TOKEN=x.ddasd23802342242"
   ]
  },
  {
   "cell_type": "code",
   "execution_count": null,
   "metadata": {},
   "outputs": [],
   "source": [
    "import os\n",
    "import hvac\n",
    "\n",
    "def connect():\n",
    "    '''\n",
    "    Connect to the vault server and return the connected vault client instance.\n",
    "    '''\n",
    "    url = os.environ.get('VAULT_ADDR')\n",
    "    token = os.environ.get('VAULT_TOKEN')\n",
    "\n",
    "    if not url or not token:\n",
    "        print(\n",
    "            'Failed connecting to vault. ' +\n",
    "            '`VAULT_ADDR` and `VAULT_TOKEN` must be set in your environment.'\n",
    "        )\n",
    "    else :\n",
    "        print('Connecting to vault server and trying to return a valid client object')\n",
    "        return hvac.Client(url=url, token=token) "
   ]
  },
  {
   "cell_type": "code",
   "execution_count": null,
   "metadata": {},
   "outputs": [],
   "source": [
    "client = connect()\n",
    "client.is_authenticated()"
   ]
  },
  {
   "cell_type": "markdown",
   "metadata": {},
   "source": [
    "### Create a secret\n",
    "\n",
    "We are going to create a simple secret \"test3\" containing a key \"my_other_secret\" which will have the value of \"mi_otro_secreto\"\n"
   ]
  },
  {
   "cell_type": "code",
   "execution_count": null,
   "metadata": {},
   "outputs": [],
   "source": [
    "my_secret = { 'my_other_secret': 'mi_otro_secreto'}\n",
    "#client.secrets.kv.v2.create_or_update_secret(path='secret/test3',secret=my_secret)\n",
    "client.secrets.kv.v2.create_or_update_secret(path='test3', secret=dict(my_other_secret='mi_otro_secreto'))"
   ]
  },
  {
   "cell_type": "markdown",
   "metadata": {},
   "source": [
    "### Read a secret"
   ]
  },
  {
   "cell_type": "code",
   "execution_count": null,
   "metadata": {},
   "outputs": [],
   "source": [
    "result=client.secrets.kv.v2.read_secret(path='test3')\n",
    "print(result)\n",
    "print()\n",
    "print('The value of the secret \"my_other_secret\" is {result_value}'.format(result_value=result['data']['data']))"
   ]
  },
  {
   "cell_type": "markdown",
   "metadata": {},
   "source": [
    "### Delete secrets"
   ]
  },
  {
   "cell_type": "code",
   "execution_count": null,
   "metadata": {},
   "outputs": [],
   "source": [
    "client.secrets.kv.delete_secret_versions(path=\"test3\",versions=[1,2,3])"
   ]
  },
  {
   "cell_type": "code",
   "execution_count": null,
   "metadata": {},
   "outputs": [],
   "source": [
    "client.secrets.kv.delete_secret_versions(path=\"test3\",versions=[8])"
   ]
  }
 ],
 "metadata": {
  "kernelspec": {
   "display_name": "Python 3",
   "language": "python",
   "name": "python3"
  },
  "language_info": {
   "codemirror_mode": {
    "name": "ipython",
    "version": 3
   },
   "file_extension": ".py",
   "mimetype": "text/x-python",
   "name": "python",
   "nbconvert_exporter": "python",
   "pygments_lexer": "ipython3",
   "version": "3.6.9"
  }
 },
 "nbformat": 4,
 "nbformat_minor": 5
}
