{
 "cells": [
  {
   "cell_type": "markdown",
   "id": "changing-thought",
   "metadata": {},
   "source": [
    "# Hasicorp Vault Usage Examples\n",
    "## DevOpsLab Example\n",
    "\n",
    "### Prerequisite tasks\n",
    "To set up and run this example, you must first set up the Vault Server as described in the \"2.01.Hashicorp_Vault_Server_Installation\" and start the server"
   ]
  },
  {
   "cell_type": "markdown",
   "id": "ordinary-costume",
   "metadata": {},
   "source": [
    "### Write a secret to the vault"
   ]
  },
  {
   "cell_type": "raw",
   "id": "collected-intensity",
   "metadata": {},
   "source": [
    "Create a simple secret"
   ]
  },
  {
   "cell_type": "code",
   "execution_count": null,
   "id": "threatened-aircraft",
   "metadata": {},
   "outputs": [],
   "source": [
    "%%bash\n",
    "# Write a first secret\n",
    "vault kv put secret/hello foo=world\n",
    "# Write a second different secret\n",
    "vault kv put secret/test1 api_key=my_api_key_value\n",
    "# Write a second version of the first secret (version will be \"2\")\n",
    "vault kv put secret/hello foo=world\n",
    "# Write two secrets in one sentences\n",
    "vaulk kv put secret/test1 api_key=my_api_key_value other_key=another_key_value\n"
   ]
  },
  {
   "cell_type": "markdown",
   "id": "elder-hungarian",
   "metadata": {},
   "source": [
    "### Read a secret from the vault"
   ]
  },
  {
   "cell_type": "markdown",
   "id": "surrounded-fitness",
   "metadata": {},
   "source": [
    "Read some secret examples"
   ]
  },
  {
   "cell_type": "code",
   "execution_count": null,
   "id": "native-cleaning",
   "metadata": {},
   "outputs": [],
   "source": [
    "%%bash\n",
    "# Read all pairs key-value of the secret\n",
    "vault kv get secret/hello\n",
    "vault kv get secret/test1\n",
    "# Read just one of the pairs identified by field name\n",
    "vault kv get -field=other_key secret/test1"
   ]
  },
  {
   "cell_type": "markdown",
   "id": "comparative-microphone",
   "metadata": {},
   "source": [
    "### Delete a secret from the vault"
   ]
  },
  {
   "cell_type": "markdown",
   "id": "biological-soundtrack",
   "metadata": {},
   "source": [
    "Delete some secret examples"
   ]
  },
  {
   "cell_type": "code",
   "execution_count": null,
   "id": "binding-carrier",
   "metadata": {},
   "outputs": [],
   "source": [
    "%%bash\n",
    "vault kv delete secret/hello"
   ]
  }
 ],
 "metadata": {
  "kernelspec": {
   "display_name": "Python 3",
   "language": "python",
   "name": "python3"
  },
  "language_info": {
   "codemirror_mode": {
    "name": "ipython",
    "version": 3
   },
   "file_extension": ".py",
   "mimetype": "text/x-python",
   "name": "python",
   "nbconvert_exporter": "python",
   "pygments_lexer": "ipython3",
   "version": "3.6.9"
  }
 },
 "nbformat": 4,
 "nbformat_minor": 5
}
