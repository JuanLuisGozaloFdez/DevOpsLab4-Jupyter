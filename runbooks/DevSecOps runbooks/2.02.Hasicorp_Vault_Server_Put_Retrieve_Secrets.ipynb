{
 "cells": [
  {
   "cell_type": "markdown",
   "source": [
    "# Hasicorp Vault Usage Examples\n",
    "## DevOpsLab Example\n",
    "\n",
    "### Prerequisite tasks\n",
    "To set up and run this example, you must first set up the Vault Server as described in the \"2.01.Hashicorp_Vault_Server_Installation\" and start the server"
   ],
   "metadata": {}
  },
  {
   "cell_type": "code",
   "execution_count": null,
   "source": [
    "%env VAULT_ADDR=http://127.0.0.1:8200/"
   ],
   "outputs": [],
   "metadata": {}
  },
  {
   "cell_type": "markdown",
   "source": [
    "### Write a secret to the vault"
   ],
   "metadata": {}
  },
  {
   "cell_type": "markdown",
   "source": [
    "- Create a simple secret named \"hello\" with a value \"world\""
   ],
   "metadata": {}
  },
  {
   "cell_type": "code",
   "execution_count": null,
   "source": [
    "!vault kv put secret/hello foo=world\r\n"
   ],
   "outputs": [],
   "metadata": {}
  },
  {
   "cell_type": "markdown",
   "source": [
    "- Write a second different secret \"api_key\" with a value \"my_api_key_value\""
   ],
   "metadata": {}
  },
  {
   "cell_type": "code",
   "execution_count": null,
   "source": [
    "!vault kv put secret/test1 api_key=my_api_key_value"
   ],
   "outputs": [],
   "metadata": {}
  },
  {
   "cell_type": "markdown",
   "source": [
    "- Write a second version of the first secret (version will be \"2\")"
   ],
   "metadata": {}
  },
  {
   "cell_type": "code",
   "execution_count": null,
   "source": [
    "!vault kv put secret/hello foo=world2\r\n"
   ],
   "outputs": [],
   "metadata": {}
  },
  {
   "cell_type": "markdown",
   "source": [
    "Write two secrets in one sentences"
   ],
   "metadata": {}
  },
  {
   "cell_type": "code",
   "execution_count": null,
   "source": [
    "!vault kv put secret/test1 api_key=my_api_key_value other_key=another_key_value\r\n"
   ],
   "outputs": [],
   "metadata": {}
  },
  {
   "cell_type": "markdown",
   "source": [
    "### Read a secret from the vault"
   ],
   "metadata": {}
  },
  {
   "cell_type": "markdown",
   "source": [
    "- Read all pairs key-value of the secret \"hello\"\r\n"
   ],
   "metadata": {}
  },
  {
   "cell_type": "code",
   "execution_count": null,
   "source": [
    "!vault kv get secret/hello"
   ],
   "outputs": [],
   "metadata": {}
  },
  {
   "cell_type": "markdown",
   "source": [
    "- Read all pairs key-value of the secret \"test1\""
   ],
   "metadata": {}
  },
  {
   "cell_type": "code",
   "execution_count": null,
   "source": [
    "!vault kv get secret/test1"
   ],
   "outputs": [],
   "metadata": {}
  },
  {
   "cell_type": "markdown",
   "source": [
    "- Read from the secret \"test1\" just one of the pairs identified by the field name \"other_key\"\r\n"
   ],
   "metadata": {}
  },
  {
   "cell_type": "code",
   "execution_count": null,
   "source": [
    "!vault kv get -field=other_key secret/test1"
   ],
   "outputs": [],
   "metadata": {}
  },
  {
   "cell_type": "markdown",
   "source": [
    "### Delete a secret from the vault"
   ],
   "metadata": {}
  },
  {
   "cell_type": "markdown",
   "source": [
    "- Delete one of the secrets that has been created earlier\r\n"
   ],
   "metadata": {}
  },
  {
   "cell_type": "code",
   "execution_count": null,
   "source": [
    "!vault kv delete secret/hello"
   ],
   "outputs": [],
   "metadata": {}
  }
 ],
 "metadata": {
  "kernelspec": {
   "display_name": "Python 3",
   "language": "python",
   "name": "python3"
  },
  "language_info": {
   "codemirror_mode": {
    "name": "ipython",
    "version": 3
   },
   "file_extension": ".py",
   "mimetype": "text/x-python",
   "name": "python",
   "nbconvert_exporter": "python",
   "pygments_lexer": "ipython3",
   "version": "3.6.9"
  }
 },
 "nbformat": 4,
 "nbformat_minor": 5
}