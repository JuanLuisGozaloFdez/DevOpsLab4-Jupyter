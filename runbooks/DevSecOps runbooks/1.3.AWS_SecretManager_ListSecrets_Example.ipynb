{
 "cells": [
  {
   "cell_type": "markdown",
   "source": [
    "# AWS Secret Management\r\n",
    "\r\n",
    "## Prerequisite tasks\r\n",
    "\r\n",
    "To set up and run this example, you must first set up the following:\r\n",
    "\r\n",
    "1. Install AWS CLI 2 as described in the **\"1.0.AWS_CLI_2_Installation\"** notebook.\r\n",
    "2. Configure your AWS credentials, as described in [Quickstart](https://boto3.amazonaws.com/v1/documentation/api/latest/guide/quickstart.html) using the AWS CLI or the AWS Console IAM Manager.\r\n",
    "3. Run locally the \"aws configure\" from the console to store locally your credentials to connect to AWS using the CLI.\r\n",
    "   - Input your \"AWS Access Key ID\" and \"AWS Secret Access Key\" and \"Default region name\".\r\n",
    "   - This will create a directory \".aws\" and the files \"config\" and \"credentials\" (you must edit later if required).\r\n",
    "4. Create a secret with the AWS Secrets Manager, as described in the [AWS Secrets Manager Developer Guide](https://docs.aws.amazon.com/secretsmanager/latest/userguide/manage_create-basic-secret.html) and it has been described in the Lab.\r\n",
    "5. Install boto3 library in your environment as described in the **\"1.1.AWS_Boto3_Installation\"** notebook (if it is not already done)\r\n",
    "6. Modify the parameters \"secret_name\" and \"region_name\" to set your own data in the next cell code for this example.\r\n",
    "  \r\n",
    "**NOTE**: Boto3 will also search the ~/.aws/config file when looking for configuration values. You can change the location of this file by setting the AWS_CONFIG_FILE environment variable.\r\n",
    "**NOTE**: The credential file has your AWS Keys so must not be located in a public source control repository.\r\n"
   ],
   "metadata": {}
  },
  {
   "cell_type": "markdown",
   "source": [
    "### Retrieve the list of secret values"
   ],
   "metadata": {}
  },
  {
   "cell_type": "markdown",
   "source": [
    "The following example shows how to:\n",
    "Retrieve a list of secret values using [list_secrets](https://boto3.amazonaws.com/v1/documentation/api/latest/reference/services/secretsmanager.html#SecretsManager.Client.list_secrets) funtion"
   ],
   "metadata": {}
  },
  {
   "cell_type": "code",
   "execution_count": null,
   "source": [
    "import boto3\r\n",
    "from botocore.exceptions import ClientError"
   ],
   "outputs": [],
   "metadata": {}
  },
  {
   "cell_type": "code",
   "execution_count": null,
   "source": [
    "def list_secrets():\r\n",
    "    region_name = \"eu-west-2\"\r\n",
    "    \r\n",
    "    session = boto3.session.Session()\r\n",
    "    client = session.client(\r\n",
    "        service_name='secretsmanager',\r\n",
    "        region_name=region_name,\r\n",
    "    )\r\n",
    "\r\n",
    "    try:\r\n",
    "        response = client.list_secrets(\r\n",
    "        )         \r\n",
    "    except ClientError as e:\r\n",
    "        if e.response['Error']['Code'] == 'InvalidParameterException':\r\n",
    "            print(\"The request had invalid params: \",e)\r\n",
    "        elif e.response['Error']['Code'] == 'InvalidNextTokenException':\r\n",
    "            print(\"The request was invalid due to:\", e)\r\n",
    "        elif e.response['Error']['Code'] == 'InternalServiceError':\r\n",
    "            print(\"Unexpected internal error found\", e)\r\n",
    "    else:\r\n",
    "        # Secrets Manager decrypts the secrets\r\n",
    "        # Your code goes here.\r\n",
    "        print (\"The retrieved Secrets are: \", response)"
   ],
   "outputs": [],
   "metadata": {}
  },
  {
   "cell_type": "code",
   "execution_count": null,
   "source": [
    "list_secrets()"
   ],
   "outputs": [],
   "metadata": {}
  },
  {
   "cell_type": "code",
   "execution_count": null,
   "source": [],
   "outputs": [],
   "metadata": {}
  }
 ],
 "metadata": {
  "kernelspec": {
   "display_name": "Python 3",
   "language": "python",
   "name": "python3"
  },
  "language_info": {
   "codemirror_mode": {
    "name": "ipython",
    "version": 3
   },
   "file_extension": ".py",
   "mimetype": "text/x-python",
   "name": "python",
   "nbconvert_exporter": "python",
   "pygments_lexer": "ipython3",
   "version": "3.6.9"
  }
 },
 "nbformat": 4,
 "nbformat_minor": 5
}