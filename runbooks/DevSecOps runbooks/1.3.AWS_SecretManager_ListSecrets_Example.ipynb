{
 "cells": [
  {
   "cell_type": "markdown",
   "metadata": {},
   "source": [
    "# AWS Secret Management\n",
    "\n",
    "## Prerequisite tasks\n",
    "\n",
    "To set up and run this example, you must first set up the following:\n",
    "\n",
    "1. Install AWS CLI 2 as described in the **\"1.0.AWS_CLI_2_Installation\"** notebook.\n",
    "2. Configure your AWS credentials, as described in [Quickstart](https://boto3.amazonaws.com/v1/documentation/api/latest/guide/quickstart.html) using the AWS CLI or the AWS Console IAM Manager.\n",
    "3. Run locally the \"aws configure\" from the console to store locally your credentials to connect to AWS using the CLI.\n",
    "   - Input your \"AWS Access Key ID\" and \"AWS Secret Access Key\" and \"Default region name\".\n",
    "   - This will create a directory \".aws\" and the files \"config\" and \"credentials\" (you must edit later if required).\n",
    "4. Create a secret with the AWS Secrets Manager, as described in the [AWS Secrets Manager Developer Guide](https://docs.aws.amazon.com/secretsmanager/latest/userguide/manage_create-basic-secret.html) and it has been described in the Lab.\n",
    "5. Install boto3 library in your environment as described in the **\"1.1.AWS_Boto3_Installation\"** notebook (if it is not already done)\n",
    "6. Modify the parameters \"secret_name\" and \"region_name\" to set your own data in the next cell code for this example.\n",
    "  \n",
    "**NOTE**: Boto3 will also search the ~/.aws/config file when looking for configuration values. You can change the location of this file by setting the AWS_CONFIG_FILE environment variable.\n",
    "**NOTE**: The credential file has your AWS Keys so must not be located in a public source control repository.\n"
   ]
  },
  {
   "cell_type": "markdown",
   "metadata": {},
   "source": [
    "### Retrieve the list of secret values"
   ]
  },
  {
   "cell_type": "markdown",
   "metadata": {},
   "source": [
    "The following example shows how to:\n",
    "Retrieve a list of secret values using [list_secrets](https://boto3.amazonaws.com/v1/documentation/api/latest/reference/services/secretsmanager.html#SecretsManager.Client.list_secrets) funtion"
   ]
  },
  {
   "cell_type": "code",
   "execution_count": null,
   "metadata": {},
   "outputs": [],
   "source": [
    "import boto3\n",
    "from botocore.exceptions import ClientError"
   ]
  },
  {
   "cell_type": "code",
   "execution_count": null,
   "metadata": {},
   "outputs": [],
   "source": [
    "def list_secrets():\n",
    "    region_name = \"eu-west-3\"\n",
    "    \n",
    "    session = boto3.session.Session()\n",
    "    client = session.client(\n",
    "        service_name='secretsmanager',\n",
    "        region_name=region_name,\n",
    "    )\n",
    "\n",
    "    try:\n",
    "        response = client.list_secrets(\n",
    "        )         \n",
    "    except ClientError as e:\n",
    "        if e.response['Error']['Code'] == 'InvalidParameterException':\n",
    "            print(\"The request had invalid params: \",e)\n",
    "        elif e.response['Error']['Code'] == 'InvalidNextTokenException':\n",
    "            print(\"The request was invalid due to:\", e)\n",
    "        elif e.response['Error']['Code'] == 'InternalServiceError':\n",
    "            print(\"Unexpected internal error found\", e)\n",
    "    else:\n",
    "        # Secrets Manager decrypts the secrets\n",
    "        # Your code goes here.\n",
    "        print (\"The retrieved Secrets are: \", response)"
   ]
  },
  {
   "cell_type": "code",
   "execution_count": null,
   "metadata": {},
   "outputs": [],
   "source": [
    "list_secrets()"
   ]
  },
  {
   "cell_type": "markdown",
   "metadata": {},
   "source": [
    "That it is the same as executing the AWS Cli command"
   ]
  },
  {
   "cell_type": "code",
   "execution_count": null,
   "metadata": {},
   "outputs": [],
   "source": [
    "!aws secretsmanager list-secrets"
   ]
  },
  {
   "cell_type": "markdown",
   "metadata": {},
   "source": [
    "and finally, let's deleting some secrets by AWS cli interface"
   ]
  },
  {
   "cell_type": "code",
   "execution_count": null,
   "metadata": {},
   "outputs": [],
   "source": [
    "!aws secretsmanager delete-secret --secret-id prod/api/devopslab/miclavesecreta --recovery-window-in-days 7 "
   ]
  },
  {
   "cell_type": "markdown",
   "metadata": {},
   "source": [
    "with the recovery window period, it is still possible to restore the secret"
   ]
  },
  {
   "cell_type": "code",
   "execution_count": null,
   "metadata": {},
   "outputs": [],
   "source": [
    "!aws secretsmanager restore-secret --secret-id prod/api/devopslab/miclavesecreta"
   ]
  },
  {
   "cell_type": "code",
   "execution_count": null,
   "id": "8c31bcf5",
   "metadata": {},
   "outputs": [],
   "source": [
    "!aws secretsmanager list-secrets"
   ]
  }
 ],
 "metadata": {
  "kernelspec": {
   "display_name": "Python 3",
   "language": "python",
   "name": "python3"
  },
  "language_info": {
   "codemirror_mode": {
    "name": "ipython",
    "version": 3
   },
   "file_extension": ".py",
   "mimetype": "text/x-python",
   "name": "python",
   "nbconvert_exporter": "python",
   "pygments_lexer": "ipython3",
   "version": "3.6.9"
  }
 },
 "nbformat": 4,
 "nbformat_minor": 5
}
