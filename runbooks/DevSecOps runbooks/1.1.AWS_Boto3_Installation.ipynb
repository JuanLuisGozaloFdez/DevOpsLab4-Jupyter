{
 "cells": [
  {
   "cell_type": "markdown",
   "id": "changing-thought",
   "metadata": {},
   "source": [
    "# AWS Boto3 library Installation\n",
    "## DevOpsLab Example\n",
    "\n",
    "### Prerequisite tasks\n",
    "To set up this example, you must first have *pip* installed in your system"
   ]
  },
  {
   "cell_type": "markdown",
   "id": "advance-ethnic",
   "metadata": {},
   "source": [
    "### Connect to target system (optional)"
   ]
  },
  {
   "cell_type": "code",
   "execution_count": null,
   "id": "noble-jewel",
   "metadata": {},
   "outputs": [],
   "source": [
    "%run \"0.0. Connect to the target system.ipynb\""
   ]
  },
  {
   "cell_type": "markdown",
   "id": "ordinary-costume",
   "metadata": {},
   "source": [
    "### Install the *boto3* library"
   ]
  },
  {
   "cell_type": "markdown",
   "id": "efficient-remains",
   "metadata": {},
   "source": [
    "Install the *boto3* library using the *pip install boto3*"
   ]
  },
  {
   "cell_type": "code",
   "execution_count": null,
   "id": "strategic-essay",
   "metadata": {},
   "outputs": [],
   "source": [
    "%%bash -s \"$target_host\" \"$user\" \"$password\"\n",
    "pip3 show boto3\n",
    "if [ $? -eq 0 ]; then\n",
    "  echo \"boto3 library already installed\"\n",
    "else\n",
    "  echo \"Starting installation of boto3 library\"\n",
    "  echo $3 | sudo -S -H pip3 install boto3\n",
    "  pip3 show boto3\n",
    "fi"
   ]
  },
  {
   "cell_type": "code",
   "execution_count": null,
   "id": "disturbed-petroleum",
   "metadata": {},
   "outputs": [],
   "source": []
  }
 ],
 "metadata": {
  "kernelspec": {
   "display_name": "Python 3",
   "language": "python",
   "name": "python3"
  },
  "language_info": {
   "codemirror_mode": {
    "name": "ipython",
    "version": 3
   },
   "file_extension": ".py",
   "mimetype": "text/x-python",
   "name": "python",
   "nbconvert_exporter": "python",
   "pygments_lexer": "ipython3",
   "version": "3.6.9"
  }
 },
 "nbformat": 4,
 "nbformat_minor": 5
}
