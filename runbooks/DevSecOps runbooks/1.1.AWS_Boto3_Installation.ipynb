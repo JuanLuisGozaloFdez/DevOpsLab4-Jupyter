{
 "cells": [
  {
   "cell_type": "markdown",
   "source": [
    "# AWS Boto3 library Installation\n",
    "## DevOpsLab Example\n",
    "\n",
    "### Prerequisite tasks\n",
    "To set up this example, you must first have *pip* installed in your system"
   ],
   "metadata": {}
  },
  {
   "cell_type": "markdown",
   "source": [
    "### Connect to target system (optional)"
   ],
   "metadata": {}
  },
  {
   "cell_type": "code",
   "execution_count": null,
   "source": [
    "%run \"0.0. Connect to the target system.ipynb\""
   ],
   "outputs": [],
   "metadata": {}
  },
  {
   "cell_type": "markdown",
   "source": [
    "### Install the *boto3* library"
   ],
   "metadata": {}
  },
  {
   "cell_type": "markdown",
   "source": [
    "Install the *boto3* library using the *pip install boto3*"
   ],
   "metadata": {}
  },
  {
   "cell_type": "code",
   "execution_count": null,
   "source": [
    "%%bash -s \"$target_host\" \"$user\" \"$password\"\r\n",
    "if [ $(pip3 list|grep boto3|wc -l) == 1 ]; then\r\n",
    "  echo \"boto3 library already installed for this user\"\r\n",
    "else\r\n",
    "  echo \"Starting installation of boto3 library for this user\"\r\n",
    "  # UNCOMMENT THIS IS YOU WANT TO INSTALL FOR SUDO USER: echo $3 | sudo -S -H pip3 install boto3\r\n",
    "  pip3 install boto3\r\n",
    "fi\r\n",
    "pip3 show boto3"
   ],
   "outputs": [],
   "metadata": {}
  },
  {
   "cell_type": "code",
   "execution_count": null,
   "source": [],
   "outputs": [],
   "metadata": {}
  }
 ],
 "metadata": {
  "kernelspec": {
   "display_name": "Python 3",
   "language": "python",
   "name": "python3"
  },
  "language_info": {
   "codemirror_mode": {
    "name": "ipython",
    "version": 3
   },
   "file_extension": ".py",
   "mimetype": "text/x-python",
   "name": "python",
   "nbconvert_exporter": "python",
   "pygments_lexer": "ipython3",
   "version": "3.6.9"
  }
 },
 "nbformat": 4,
 "nbformat_minor": 5
}