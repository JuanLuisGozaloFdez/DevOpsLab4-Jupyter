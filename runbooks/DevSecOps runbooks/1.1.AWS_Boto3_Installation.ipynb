{
 "cells": [
  {
   "cell_type": "markdown",
   "metadata": {},
   "source": [
    "# AWS Boto3 library Installation\n",
    "## DevOpsLab Example\n",
    "\n",
    "### Prerequisite tasks\n",
    "To set up this example, you must first have *pip* installed in your system"
   ]
  },
  {
   "cell_type": "markdown",
   "metadata": {},
   "source": [
    "### Connect to target system (optional)"
   ]
  },
  {
   "cell_type": "code",
   "execution_count": null,
   "metadata": {},
   "outputs": [],
   "source": [
    "%run \"0.0. Connect to the target system.ipynb\""
   ]
  },
  {
   "cell_type": "markdown",
   "metadata": {},
   "source": [
    "### Install the *boto3* library"
   ]
  },
  {
   "cell_type": "markdown",
   "metadata": {},
   "source": [
    "Install the *boto3* library using the *pip install boto3*"
   ]
  },
  {
   "cell_type": "code",
   "execution_count": null,
   "metadata": {},
   "outputs": [],
   "source": [
    "%%bash -s \"$target_host\" \"$user\" \"$password\"\n",
    "if [ $(pip3 list|grep boto3|wc -l) == 1 ]\n",
    "then\n",
    "  echo \"boto3 library already installed for this user\"\n",
    "else\n",
    "  echo \"Starting installation of boto3 library for this user\"\n",
    "  # UNCOMMENT THIS IS YOU WANT TO INSTALL FOR SUDO USER: echo $3 | sudo -S -H pip3 install boto3\n",
    "  pip3 install boto3\n",
    "fi\n",
    "pip3 show boto3"
   ]
  }
 ],
 "metadata": {
  "kernelspec": {
   "display_name": "Python 3",
   "language": "python",
   "name": "python3"
  },
  "language_info": {
   "codemirror_mode": {
    "name": "ipython",
    "version": 3
   },
   "file_extension": ".py",
   "mimetype": "text/x-python",
   "name": "python",
   "nbconvert_exporter": "python",
   "pygments_lexer": "ipython3",
   "version": "3.6.9"
  }
 },
 "nbformat": 4,
 "nbformat_minor": 5
}
