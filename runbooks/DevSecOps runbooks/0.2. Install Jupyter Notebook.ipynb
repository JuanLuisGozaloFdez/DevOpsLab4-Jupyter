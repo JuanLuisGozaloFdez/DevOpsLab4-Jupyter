{
 "cells": [
  {
   "cell_type": "markdown",
   "id": "naked-opportunity",
   "metadata": {},
   "source": [
    "# Jupyter Notebook Installation"
   ]
  },
  {
   "cell_type": "markdown",
   "id": "finished-ethernet",
   "metadata": {},
   "source": [
    "**Objective**:\n",
    "Run this runbook to ckeck if Jupyter Notebook are installed or not and, if required, fix it!\n",
    "\n",
    "**Steps to ckeck**:\n",
    "1. Connect to system\n",
    "2. Verify if jupyter notebook is installed\n",
    "3. Install jupyter\n"
   ]
  },
  {
   "cell_type": "markdown",
   "id": "pending-converter",
   "metadata": {},
   "source": [
    "### 1. Connect to the target system"
   ]
  },
  {
   "cell_type": "code",
   "execution_count": null,
   "id": "entire-ireland",
   "metadata": {},
   "outputs": [],
   "source": [
    "%run \"0.0. Connect to the target system.ipynb\""
   ]
  },
  {
   "cell_type": "markdown",
   "id": "outside-colorado",
   "metadata": {},
   "source": [
    "### 2, Verify installation in the system"
   ]
  },
  {
   "cell_type": "code",
   "execution_count": null,
   "id": "geographic-complaint",
   "metadata": {},
   "outputs": [],
   "source": [
    "%%bash \n",
    "STATUS_SCRIPT=\"which jupyter\"\n",
    "# ssh -i ~/.ssh/devopslab-london.pem ${2}@${1} ${STATUS_SCRIPT}\n",
    "${STATUS_SCRIPT}\n",
    "if [ $? -eq 0 ];\n",
    "then\n",
    "  echo \"JUpyter is installed\"\n",
    "else\n",
    "  echo \"Jupyter is not installed\"\n",
    "fi"
   ]
  },
  {
   "cell_type": "markdown",
   "id": "retained-daisy",
   "metadata": {},
   "source": [
    "### 3. Do installation in the system"
   ]
  },
  {
   "cell_type": "markdown",
   "id": "representative-quest",
   "metadata": {},
   "source": [
    "Now, it is time to install *jupyter* with the *pip* install (notice that, inside the virtual environment, *pip* could be used instead *pip3* as in the virtual environment both are the same. If not, please use *pip3*).:"
   ]
  },
  {
   "cell_type": "markdown",
   "id": "radical-weight",
   "metadata": {},
   "source": [
    "Then, the directory *runbooks* is created to store the new runbooks"
   ]
  },
  {
   "cell_type": "code",
   "execution_count": null,
   "id": "faced-sponsorship",
   "metadata": {},
   "outputs": [],
   "source": [
    "%%bash\n",
    "pip3 install jupyter\n",
    "jupyter notebook --generate-config\n",
    "mkdir ~/jupyter-dir/runbooks"
   ]
  },
  {
   "cell_type": "markdown",
   "id": "visible-variance",
   "metadata": {},
   "source": [
    "Just a final action to configure the notebook installation, editing the *jupyter_notebook_config.py* file"
   ]
  },
  {
   "cell_type": "markdown",
   "id": "furnished-florida",
   "metadata": {},
   "source": [
    "- nano ~/.jupyter/jupyter_notebook_config.py"
   ]
  },
  {
   "cell_type": "markdown",
   "id": "fleet-bidding",
   "metadata": {},
   "source": [
    "In the configuration file, the following options will be activated and set up:\n",
    "- c.NotebookApp.allow_password_change = True\n",
    "- c.NotebookApp.allow_root = True\n",
    "- c.NotebookApp.ip = \"localhost \" (or set the remote host IP)\n",
    "- c.NotebookApp.notebook_dir = 'jupyter-dir/runbooks/'\n",
    "- c.NotebookApp.open_browser = False"
   ]
  },
  {
   "cell_type": "code",
   "execution_count": null,
   "id": "light-access",
   "metadata": {},
   "outputs": [],
   "source": []
  }
 ],
 "metadata": {
  "kernelspec": {
   "display_name": "Python 3",
   "language": "python",
   "name": "python3"
  },
  "language_info": {
   "codemirror_mode": {
    "name": "ipython",
    "version": 3
   },
   "file_extension": ".py",
   "mimetype": "text/x-python",
   "name": "python",
   "nbconvert_exporter": "python",
   "pygments_lexer": "ipython3",
   "version": "3.6.9"
  }
 },
 "nbformat": 4,
 "nbformat_minor": 5
}