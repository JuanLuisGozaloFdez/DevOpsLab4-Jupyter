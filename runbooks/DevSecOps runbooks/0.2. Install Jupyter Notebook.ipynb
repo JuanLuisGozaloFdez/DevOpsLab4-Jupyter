{
 "cells": [
  {
   "cell_type": "markdown",
   "source": [
    "# Jupyter Notebook Installation"
   ],
   "metadata": {}
  },
  {
   "cell_type": "markdown",
   "source": [
    "**Objective**:\n",
    "Run this runbook to ckeck if Jupyter Notebook are installed or not and, if required, fix it!\n",
    "\n",
    "**Steps to ckeck**:\n",
    "1. Connect to system\n",
    "2. Verify if jupyter notebook is installed\n",
    "3. Install jupyter\n"
   ],
   "metadata": {}
  },
  {
   "cell_type": "markdown",
   "source": [
    "### 1. Connect to the target system"
   ],
   "metadata": {}
  },
  {
   "cell_type": "code",
   "execution_count": null,
   "source": [
    "%run \"0.0. Connect to the target system.ipynb\""
   ],
   "outputs": [],
   "metadata": {}
  },
  {
   "cell_type": "markdown",
   "source": [
    "### 2, Verify installation in the system"
   ],
   "metadata": {}
  },
  {
   "cell_type": "code",
   "execution_count": null,
   "source": [
    "%%bash \r\n",
    "STATUS_SCRIPT=\"which jupyter\"\r\n",
    "# ssh -i ~/.ssh/devopslab-london.pem ${2}@${1} ${STATUS_SCRIPT}\r\n",
    "${STATUS_SCRIPT}\r\n",
    "if [ $? -eq 0 ];\r\n",
    "then\r\n",
    "  echo \"JUpyter is installed\"\r\n",
    "else\r\n",
    "  echo \"Jupyter is not installed\"\r\n",
    "fi"
   ],
   "outputs": [],
   "metadata": {}
  },
  {
   "cell_type": "markdown",
   "source": [
    "### 3. Do installation in the system"
   ],
   "metadata": {}
  },
  {
   "cell_type": "markdown",
   "source": [
    "Now, it is time to install *jupyter* with the *pip* install (notice that, inside the virtual environment, *pip* could be used instead *pip3* as in the virtual environment both are the same. If not, please use *pip3*).:"
   ],
   "metadata": {}
  },
  {
   "cell_type": "markdown",
   "source": [
    "Then, the directory *runbooks* is created to store the new runbooks"
   ],
   "metadata": {}
  },
  {
   "cell_type": "code",
   "execution_count": null,
   "source": [
    "%%bash\r\n",
    "pip3 install jupyter\r\n",
    "jupyter notebook --generate-config\r\n",
    "mkdir ~/jupyter-dir/runbooks"
   ],
   "outputs": [],
   "metadata": {}
  },
  {
   "cell_type": "markdown",
   "source": [
    "Just a final action to configure the notebook installation, editing the *jupyter_notebook_config.py* file"
   ],
   "metadata": {}
  },
  {
   "cell_type": "markdown",
   "source": [
    "- nano ~/.jupyter/jupyter_notebook_config.py"
   ],
   "metadata": {}
  },
  {
   "cell_type": "markdown",
   "source": [
    "In the configuration file, the following options will be activated and set up:\r\n",
    "- c.NotebookApp.allow_password_change = True\r\n",
    "- c.NotebookApp.allow_root = True\r\n",
    "- c.NotebookApp.ip = \"localhost \" (or set the remote host IP)\r\n",
    "- c.NotebookApp.notebook_dir = 'runbooks/'\r\n",
    "- c.NotebookApp.open_browser = False"
   ],
   "metadata": {}
  },
  {
   "cell_type": "code",
   "execution_count": null,
   "source": [],
   "outputs": [],
   "metadata": {}
  }
 ],
 "metadata": {
  "kernelspec": {
   "display_name": "Python 3",
   "language": "python",
   "name": "python3"
  },
  "language_info": {
   "codemirror_mode": {
    "name": "ipython",
    "version": 3
   },
   "file_extension": ".py",
   "mimetype": "text/x-python",
   "name": "python",
   "nbconvert_exporter": "python",
   "pygments_lexer": "ipython3",
   "version": "3.6.9"
  }
 },
 "nbformat": 4,
 "nbformat_minor": 5
}