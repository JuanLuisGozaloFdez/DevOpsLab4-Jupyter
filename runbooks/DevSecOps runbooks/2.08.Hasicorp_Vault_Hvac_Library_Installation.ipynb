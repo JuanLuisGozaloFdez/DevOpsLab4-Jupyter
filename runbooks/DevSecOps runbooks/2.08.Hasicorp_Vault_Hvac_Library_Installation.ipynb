{
 "cells": [
  {
   "cell_type": "markdown",
   "id": "changing-thought",
   "metadata": {},
   "source": [
    "# Hasicorp Vault Library Installation\n",
    "## DevOpsLab Example\n",
    "\n",
    "### Prerequisite tasks\n",
    "To set up and run this example, you must first set up the following:\n",
    "- Install python and pip"
   ]
  },
  {
   "cell_type": "markdown",
   "id": "residential-stations",
   "metadata": {},
   "source": [
    "### Connect to target system"
   ]
  },
  {
   "cell_type": "code",
   "execution_count": null,
   "id": "comparable-inquiry",
   "metadata": {},
   "outputs": [],
   "source": [
    "%run \"0.0. Connect to the target system.ipynb\""
   ]
  },
  {
   "cell_type": "markdown",
   "id": "ordinary-costume",
   "metadata": {},
   "source": [
    "### Install the *hvac* library (Hasicorp Vault Library)"
   ]
  },
  {
   "cell_type": "markdown",
   "id": "efficient-remains",
   "metadata": {},
   "source": [
    "Install the hvac library using the *pip install boto3*. This installation allow the use of a Vault Dev Server.\n",
    "THIS IS NOT FOR PRODUCTION ENVIRONMENT\n",
    "\n",
    "Consider to install in the protected virtual env, if any"
   ]
  },
  {
   "cell_type": "code",
   "execution_count": null,
   "id": "threatened-aircraft",
   "metadata": {},
   "outputs": [],
   "source": [
    "%%bash -s \"$target_host\" \"$user\" \"$password\"\n",
    "pip3 show hvac\n",
    "if [ $? -eq 0 ]; then\n",
    "  echo \"hvac library already installed\"\n",
    "else\n",
    "  echo \"Starting installation of hvac library\"\n",
    "  echo $3 | sudo -S -H pip3 install hvac\n",
    "  pip3 show hvac\n",
    "fi"
   ]
  }
 ],
 "metadata": {
  "kernelspec": {
   "display_name": "Python 3",
   "language": "python",
   "name": "python3"
  },
  "language_info": {
   "codemirror_mode": {
    "name": "ipython",
    "version": 3
   },
   "file_extension": ".py",
   "mimetype": "text/x-python",
   "name": "python",
   "nbconvert_exporter": "python",
   "pygments_lexer": "ipython3",
   "version": "3.6.9"
  }
 },
 "nbformat": 4,
 "nbformat_minor": 5
}
