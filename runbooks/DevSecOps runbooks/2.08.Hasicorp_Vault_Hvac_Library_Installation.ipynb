{
 "cells": [
  {
   "cell_type": "markdown",
   "source": [
    "# Hasicorp Vault Library Installation\n",
    "## DevOpsLab Example\n",
    "\n",
    "### Prerequisite tasks\n",
    "To set up and run this example, you must first set up the following:\n",
    "- Install python and pip"
   ],
   "metadata": {}
  },
  {
   "cell_type": "markdown",
   "source": [
    "### Connect to target system"
   ],
   "metadata": {}
  },
  {
   "cell_type": "code",
   "execution_count": null,
   "source": [
    "%run \"0.0. Connect to the target system.ipynb\""
   ],
   "outputs": [],
   "metadata": {}
  },
  {
   "cell_type": "markdown",
   "source": [
    "### Install the *hvac* library (Hasicorp Vault Library)"
   ],
   "metadata": {}
  },
  {
   "cell_type": "markdown",
   "source": [
    "Install the hvac library using the *pip install hvac*. This installation allow the use of a Vault Dev Server.\r\n",
    "THIS IS NOT FOR PRODUCTION ENVIRONMENT\r\n",
    "\r\n",
    "Consider to install in the protected virtual env, if any"
   ],
   "metadata": {}
  },
  {
   "cell_type": "code",
   "execution_count": null,
   "source": [
    "%%bash -s \"$target_host\" \"$user\" \"$password\"\r\n",
    "pip3 show hvac 2>null\r\n",
    "if [ $? -eq 0 ]; then\r\n",
    "  echo \"hvac library already installed\"\r\n",
    "else\r\n",
    "  echo \"Starting installation of hvac library\"\r\n",
    "  # echo $3 | sudo -S -H pip3 install hvac\r\n",
    "  pip3 install hvac\r\n",
    "  pip3 show hvac\r\n",
    "fi"
   ],
   "outputs": [],
   "metadata": {}
  }
 ],
 "metadata": {
  "kernelspec": {
   "display_name": "Python 3",
   "language": "python",
   "name": "python3"
  },
  "language_info": {
   "codemirror_mode": {
    "name": "ipython",
    "version": 3
   },
   "file_extension": ".py",
   "mimetype": "text/x-python",
   "name": "python",
   "nbconvert_exporter": "python",
   "pygments_lexer": "ipython3",
   "version": "3.6.9"
  }
 },
 "nbformat": 4,
 "nbformat_minor": 5
}