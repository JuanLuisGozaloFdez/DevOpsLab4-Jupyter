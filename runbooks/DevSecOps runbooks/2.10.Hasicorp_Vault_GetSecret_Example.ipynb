{
 "cells": [
  {
   "cell_type": "markdown",
   "id": "changing-thought",
   "metadata": {},
   "source": [
    "# Hasicorp Vault Management\n",
    "## DevOpsLab Example\n",
    "\n",
    "### Prerequisite tasks\n",
    "To set up and run this example, you must first set up the following:\n",
    "- Configure your Hasicorp Vault server \n",
    "- Install the hvac library in your environment using *pip install hvac*"
   ]
  },
  {
   "cell_type": "markdown",
   "id": "ordinary-costume",
   "metadata": {},
   "source": [
    "### Retrieve the secret value"
   ]
  },
  {
   "cell_type": "markdown",
   "id": "efficient-remains",
   "metadata": {},
   "source": [
    "The following example shows how to:\n",
    "- Retrieve a secret value using the \"get_secret_value\" hvac funtion (or equivalent)"
   ]
  },
  {
   "cell_type": "code",
   "execution_count": null,
   "id": "strategic-essay",
   "metadata": {},
   "outputs": [],
   "source": [
    "import hvac"
   ]
  },
  {
   "cell_type": "code",
   "execution_count": null,
   "id": "engaging-table",
   "metadata": {},
   "outputs": [],
   "source": [
    "def get_secret():\n",
    "    \n",
    "        # Your code goes here."
   ]
  },
  {
   "cell_type": "code",
   "execution_count": null,
   "id": "short-agency",
   "metadata": {},
   "outputs": [],
   "source": [
    "get_secret()"
   ]
  },
  {
   "cell_type": "code",
   "execution_count": null,
   "id": "scenic-spanking",
   "metadata": {},
   "outputs": [],
   "source": []
  }
 ],
 "metadata": {
  "kernelspec": {
   "display_name": "Python 3",
   "language": "python",
   "name": "python3"
  },
  "language_info": {
   "codemirror_mode": {
    "name": "ipython",
    "version": 3
   },
   "file_extension": ".py",
   "mimetype": "text/x-python",
   "name": "python",
   "nbconvert_exporter": "python",
   "pygments_lexer": "ipython3",
   "version": "3.6.9"
  }
 },
 "nbformat": 4,
 "nbformat_minor": 5
}
