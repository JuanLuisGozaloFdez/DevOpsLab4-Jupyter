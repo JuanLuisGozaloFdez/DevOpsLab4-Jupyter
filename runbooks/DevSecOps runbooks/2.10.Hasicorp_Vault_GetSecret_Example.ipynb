{
 "cells": [
  {
   "cell_type": "markdown",
   "source": [
    "# Hasicorp Vault Management\r\n",
    "## DevOpsLab Example\r\n",
    "\r\n",
    "Some examples to use programatically a Hasicorp Vault server for basic operations\r\n",
    "\r\n",
    "### Prerequisite tasks\r\n",
    "To set up and run this example, you must first set up the following:\r\n",
    "\r\n",
    "- Configure your Hasicorp Vault server \r\n",
    "- Install the hvac library in your environment using *pip install hvac*\r\n",
    "- Execute previously the runbook \"2.09.Hasicorp_Vault_GetClientConnection\"\r\n"
   ],
   "metadata": {}
  },
  {
   "cell_type": "code",
   "execution_count": null,
   "source": [
    "import hvac\r\n",
    "client = connect()"
   ],
   "outputs": [],
   "metadata": {}
  },
  {
   "cell_type": "markdown",
   "source": [
    "### List the available secret in one path\n"
   ],
   "metadata": {}
  },
  {
   "cell_type": "code",
   "execution_count": null,
   "source": [
    "list_response=client.secrets.kv.list_secrets(path='secret')\r\n",
    "print('The secret path list under \"secret\" prefix are : {secretos}'\r\n",
    "      .format(secretos=','.join(list_response['data']['keys'])))"
   ],
   "outputs": [],
   "metadata": {}
  },
  {
   "cell_type": "markdown",
   "source": [
    "### Create a secret\n",
    "\n",
    "We are going to create a simple secret \"test3\" containing a key \"my_other_secret\" which will have the value of \"mi_otro_secreto\"\n"
   ],
   "metadata": {}
  },
  {
   "cell_type": "code",
   "execution_count": null,
   "source": [
    "my_secret = { 'my_other_secret': 'mi_otro_secreto'}\r\n",
    "#client.secrets.kv.v2.create_or_update_secret(path='secret/test3',secret=my_secret)\r\n",
    "client.secrets.kv.create_or_update_secret(path='secret/test3', secret=dict(my_other_secret='mi_otro_secreto'))"
   ],
   "outputs": [],
   "metadata": {}
  },
  {
   "cell_type": "markdown",
   "source": [
    "### Read a secret"
   ],
   "metadata": {}
  },
  {
   "cell_type": "code",
   "execution_count": null,
   "source": [
    "result=client.secrets.kv.v2.read_secret(path=\"secret/test3\")\r\n",
    "print(result)\r\n",
    "print()\r\n",
    "print('The value of the secret \"my_other_secret\" is {result_value}'.format(result_value=result['data']['data']))"
   ],
   "outputs": [],
   "metadata": {}
  },
  {
   "cell_type": "markdown",
   "source": [
    "### Delete secrets"
   ],
   "metadata": {}
  },
  {
   "cell_type": "code",
   "execution_count": null,
   "source": [
    "client.secrets.kv.delete_secret_versions(path=\"secret/test3\",versions=[1,2,3])"
   ],
   "outputs": [],
   "metadata": {}
  },
  {
   "cell_type": "code",
   "execution_count": null,
   "source": [
    "client.secrets.kv.delete_secret_versions(path=\"secret/test3\",versions=[8])"
   ],
   "outputs": [],
   "metadata": {}
  }
 ],
 "metadata": {
  "kernelspec": {
   "display_name": "Python 3",
   "language": "python",
   "name": "python3"
  },
  "language_info": {
   "codemirror_mode": {
    "name": "ipython",
    "version": 3
   },
   "file_extension": ".py",
   "mimetype": "text/x-python",
   "name": "python",
   "nbconvert_exporter": "python",
   "pygments_lexer": "ipython3",
   "version": "3.6.9"
  }
 },
 "nbformat": 4,
 "nbformat_minor": 5
}