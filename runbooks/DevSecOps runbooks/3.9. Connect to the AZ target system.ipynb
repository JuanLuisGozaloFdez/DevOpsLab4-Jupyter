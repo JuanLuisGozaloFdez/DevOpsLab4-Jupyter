{
 "cells": [
  {
   "cell_type": "markdown",
   "id": "naked-opportunity",
   "metadata": {},
   "source": [
    "# Connect to the AZ target system"
   ]
  },
  {
   "cell_type": "markdown",
   "id": "finished-ethernet",
   "metadata": {},
   "source": [
    "**Objective**:\n",
    "Make a connection to a AZ target system when required."
   ]
  },
  {
   "cell_type": "markdown",
   "id": "backed-valley",
   "metadata": {},
   "source": [
    "Ask for the name of the username and password to connect or to be used for az commands\n"
   ]
  },
  {
   "cell_type": "code",
   "execution_count": null,
   "id": "enabling-bones",
   "metadata": {},
   "outputs": [],
   "source": [
    "import getpass\n",
    "azuser=input (\"Which is your user to execute AZ processes? (i.e. user@domain.com) \")\n",
    "azpassword = getpass.getpass(\"Which is the password? \")"
   ]
  },
  {
   "cell_type": "code",
   "execution_count": null,
   "id": "retained-binding",
   "metadata": {},
   "outputs": [],
   "source": [
    "%store azuser\n",
    "%store azpassword"
   ]
  },
  {
   "cell_type": "code",
   "execution_count": null,
   "id": "a7a36aec",
   "metadata": {},
   "outputs": [],
   "source": [
    "%%bash \"$azuser\" \"$axpassword\"\n",
    "az login -u $1 -p $2 "
   ]
  }
 ],
 "metadata": {
  "interpreter": {
   "hash": "b3ba2566441a7c06988d0923437866b63cedc61552a5af99d1f4fb67d367b25f"
  },
  "kernelspec": {
   "display_name": "Python 3.7.6 64-bit (conda)",
   "name": "python3"
  },
  "language_info": {
   "codemirror_mode": {
    "name": "ipython",
    "version": 3
   },
   "file_extension": ".py",
   "mimetype": "text/x-python",
   "name": "python",
   "nbconvert_exporter": "python",
   "pygments_lexer": "ipython3",
   "version": "3.7.6"
  }
 },
 "nbformat": 4,
 "nbformat_minor": 5
}
