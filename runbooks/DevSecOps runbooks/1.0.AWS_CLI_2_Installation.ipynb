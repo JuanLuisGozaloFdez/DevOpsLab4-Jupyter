{
 "cells": [
  {
   "cell_type": "markdown",
   "metadata": {},
   "source": [
    "# AWS CLI Installation\n",
    "## DevOpsLab Example\n",
    "\n",
    "This package must be installed prior to execute any AWS Secret Manager operation from the command line\n",
    "\n",
    "### Prerequisite tasks\n",
    "- Knowing admin user and password for the target hots (**NOT YET IN THIS NOTEBOOK VERSION**)\n",
    "- No other python dependencies are needed."
   ]
  },
  {
   "cell_type": "markdown",
   "metadata": {},
   "source": [
    "### Connect to target system (optional)"
   ]
  },
  {
   "cell_type": "code",
   "execution_count": null,
   "metadata": {},
   "outputs": [],
   "source": [
    "%run \"0.0. Connect to the target system.ipynb\""
   ]
  },
  {
   "cell_type": "markdown",
   "metadata": {},
   "source": [
    "### Install latest version of AWS CLI 2\n"
   ]
  },
  {
   "cell_type": "markdown",
   "metadata": {},
   "source": [
    "Execute the following commands:\n",
    "\n",
    "- First, download and extract the awscli2\n",
    "- Then, install it"
   ]
  },
  {
   "cell_type": "code",
   "execution_count": null,
   "metadata": {},
   "outputs": [],
   "source": [
    "%%bash\n",
    "cd\n",
    "if [ ! -f awscliv2.zip ];\n",
    "  then \n",
    "    curl \"https://awscli.amazonaws.com/awscli-exe-linux-x86_64.zip\" -o \"awscliv2.zip\"\n",
    "    echo \"file awscliv2.zip downloaded\"\n",
    "  else\n",
    "    echo \"File awscli2.zip already downloaded.\"\n",
    "fi\n",
    "if [ ! -d ./aws ]\n",
    "  then\n",
    "    unzip awscliv2.zip\n",
    "    echo \"Directory aws extracted\"\n",
    "  else\n",
    "    echo \"Directory aws already extracted.\"\n",
    "fi"
   ]
  },
  {
   "cell_type": "code",
   "execution_count": null,
   "metadata": {
    "scrolled": true
   },
   "outputs": [],
   "source": [
    "%%bash -s \"$target_host\" \"$user\" \"$password\"\n",
    "cd\n",
    "if [ ! -f /usr/local/bin/aws ];\n",
    "  then\n",
    "    echo $3 | sudo -S ./aws/install\n",
    "    if [ $? -eq 0 ];\n",
    "      then \n",
    "        echo \"AWS CLI succesfully installed\"\n",
    "    fi\n",
    "  else\n",
    "    echo \"AWS ClI already installed\"\n",
    "fi\n",
    "/usr/local/bin/aws --version"
   ]
  }
 ],
 "metadata": {
  "kernelspec": {
   "display_name": "Python 3",
   "language": "python",
   "name": "python3"
  },
  "language_info": {
   "codemirror_mode": {
    "name": "ipython",
    "version": 3
   },
   "file_extension": ".py",
   "mimetype": "text/x-python",
   "name": "python",
   "nbconvert_exporter": "python",
   "pygments_lexer": "ipython3",
   "version": "3.6.9"
  }
 },
 "nbformat": 4,
 "nbformat_minor": 5
}
