{
 "cells": [
  {
   "cell_type": "markdown",
   "source": [
    "# AWS CLI Installation\n",
    "## DevOpsLab Example\n",
    "\n",
    "This package must be installed prior to execute any AWS Secret Manager operation from the command line\n",
    "\n",
    "### Prerequisite tasks\n",
    "- Knowing admin user and password for the target hots (**NOT YET IN THIS NOTEBOOK VERSION**)\n",
    "- No other python dependencies are needed."
   ],
   "metadata": {}
  },
  {
   "cell_type": "markdown",
   "source": [
    "### Connect to target system (optional)"
   ],
   "metadata": {}
  },
  {
   "cell_type": "code",
   "execution_count": null,
   "source": [
    "%run \"0.0. Connect to the target system.ipynb\""
   ],
   "outputs": [],
   "metadata": {}
  },
  {
   "cell_type": "code",
   "execution_count": null,
   "source": [
    "# import getpass\r\n",
    "# target_host=input (\"Which is the hostname of the target machine? \")\r\n",
    "# user=input (\"Which is your user to execute admin processes? \")\r\n",
    "# password = getpass.getpass(\"Which is the password to use? \")\r\n"
   ],
   "outputs": [],
   "metadata": {}
  },
  {
   "cell_type": "markdown",
   "source": [
    "### Install latest version of AWS CLI 2\n"
   ],
   "metadata": {}
  },
  {
   "cell_type": "markdown",
   "source": [
    "Execute the following commands:\n",
    "\n",
    "- First, download and extract the awscli2\n",
    "- Then, install it"
   ],
   "metadata": {}
  },
  {
   "cell_type": "code",
   "execution_count": null,
   "source": [
    "%%bash\r\n",
    "cd\r\n",
    "if [ ! -f awscliv2.zip ];\r\n",
    "  then \r\n",
    "    curl \"https://awscli.amazonaws.com/awscli-exe-linux-x86_64.zip\" -o \"awscliv2.zip\"\r\n",
    "    echo \"file awscliv2.zip downloaded\"\r\n",
    "  else\r\n",
    "    echo \"File awscli2.zip already downloaded.\"\r\n",
    "fi\r\n",
    "if [ ! -d ./aws ]\r\n",
    "  then\r\n",
    "    unzip awscliv2.zip\r\n",
    "    echo \"Directory aws extracted\"\r\n",
    "  else\r\n",
    "    echo \"Directory aws already extracted.\"\r\n",
    "fi"
   ],
   "outputs": [],
   "metadata": {}
  },
  {
   "cell_type": "code",
   "execution_count": null,
   "source": [
    "%%bash -s \"$target_host\" \"$user\" \"$password\"\r\n",
    "cd\r\n",
    "if [ ! -f /usr/local/bin/aws ];\r\n",
    "  then\r\n",
    "    echo $3 | sudo -S ./aws/install\r\n",
    "    if [ $? -eq 0 ];\r\n",
    "      then \r\n",
    "        echo \"AWS CLI succesfully installed\"\r\n",
    "    fi\r\n",
    "  else\r\n",
    "    echo \"AWS ClI already installed\"\r\n",
    "fi\r\n",
    "/usr/local/bin/aws --version"
   ],
   "outputs": [],
   "metadata": {
    "scrolled": true
   }
  },
  {
   "cell_type": "code",
   "execution_count": null,
   "source": [],
   "outputs": [],
   "metadata": {}
  }
 ],
 "metadata": {
  "kernelspec": {
   "display_name": "Python 3",
   "language": "python",
   "name": "python3"
  },
  "language_info": {
   "codemirror_mode": {
    "name": "ipython",
    "version": 3
   },
   "file_extension": ".py",
   "mimetype": "text/x-python",
   "name": "python",
   "nbconvert_exporter": "python",
   "pygments_lexer": "ipython3",
   "version": "3.6.9"
  }
 },
 "nbformat": 4,
 "nbformat_minor": 5
}