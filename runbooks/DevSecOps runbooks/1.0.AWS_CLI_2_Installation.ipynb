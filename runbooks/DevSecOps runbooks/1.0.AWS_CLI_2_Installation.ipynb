{
 "cells": [
  {
   "cell_type": "markdown",
   "id": "bf5f1f7e",
   "metadata": {},
   "source": [
    "# AWS CLI Installation\n",
    "## DevOpsLab Example\n",
    "\n",
    "This package must be installed prior to execute any AWS Secret Manager operation from the command line\n",
    "\n",
    "### Prerequisite tasks\n",
    "- Knowing admin user and password for the target hots (**NOT YET IN THIS NOTEBOOK VERSION**)\n",
    "- No other python dependencies are needed."
   ]
  },
  {
   "cell_type": "markdown",
   "id": "639e072c",
   "metadata": {},
   "source": [
    "### Connect to target system (optional)"
   ]
  },
  {
   "cell_type": "code",
   "execution_count": null,
   "id": "17919399",
   "metadata": {},
   "outputs": [],
   "source": [
    "%run \"0.0. Connect to the target system.ipynb\""
   ]
  },
  {
   "cell_type": "markdown",
   "id": "52c78992",
   "metadata": {},
   "source": [
    "### Install latest version of AWS CLI 2\n"
   ]
  },
  {
   "cell_type": "markdown",
   "id": "cde59637",
   "metadata": {},
   "source": [
    "Execute the following commands:\n",
    "\n",
    "- First, download awscli2.zip\n",
    "- Then, extract awscli2\n",
    "- Finally, install it"
   ]
  },
  {
   "cell_type": "code",
   "execution_count": null,
   "id": "763ed8fe",
   "metadata": {},
   "outputs": [],
   "source": [
    "%%bash\n",
    "cd\n",
    "if [ ! -f awscliv2.zip ];\n",
    "  then \n",
    "    curl \"https://awscli.amazonaws.com/awscli-exe-linux-x86_64.zip\" -o \"awscliv2.zip\"\n",
    "    echo \"file awscliv2.zip downloaded\"\n",
    "  else\n",
    "    echo \"File awscli2.zip already downloaded.\"\n",
    "fi"
   ]
  },
  {
   "cell_type": "code",
   "execution_count": null,
   "id": "c9b08e32",
   "metadata": {},
   "outputs": [],
   "source": [
    "%%bash\n",
    "if [ -f -./awscli2.zip ]\n",
    "then\n",
    "  if [ ! -d ./aws ]\n",
    "    then\n",
    "      unzip -q awscliv2.zip\n",
    "      echo \"Directory aws extracted\"\n",
    "    else\n",
    "      echo \"Directory aws already extracted.\"\n",
    "  fi\n",
    "else\n",
    "  echo \"File awscli2.zip not already downloaded.\"\n",
    "fi"
   ]
  },
  {
   "cell_type": "code",
   "execution_count": null,
   "id": "6f1be69f",
   "metadata": {
    "scrolled": true
   },
   "outputs": [],
   "source": [
    "%%bash -s \"$target_host\" \"$user\" \"$password\"\n",
    "cd\n",
    "if [ ! -f /usr/local/bin/aws ];\n",
    "  then\n",
    "    echo $3 | sudo -S ./aws/install\n",
    "    if [ $? -eq 0 ];\n",
    "      then \n",
    "        echo \"AWS CLI succesfully installed\"\n",
    "    fi\n",
    "  else\n",
    "    echo \"AWS ClI already installed\"\n",
    "fi\n",
    "/usr/local/bin/aws --version"
   ]
  }
 ],
 "metadata": {
  "kernelspec": {
   "display_name": "Python 3",
   "language": "python",
   "name": "python3"
  },
  "language_info": {
   "codemirror_mode": {
    "name": "ipython",
    "version": 3
   },
   "file_extension": ".py",
   "mimetype": "text/x-python",
   "name": "python",
   "nbconvert_exporter": "python",
   "pygments_lexer": "ipython3",
   "version": "3.6.9"
  }
 },
 "nbformat": 4,
 "nbformat_minor": 5
}
