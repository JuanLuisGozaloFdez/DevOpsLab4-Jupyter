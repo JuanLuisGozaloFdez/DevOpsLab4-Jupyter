{
 "cells": [
  {
   "cell_type": "markdown",
   "source": [
    "# Hasicorp Vault CLI Installation\n",
    "## DevOpsLab Example\n",
    "\n",
    "This package must be installed prior to execute any Hasicorp Vault CLi operation from the command line or calls form API python library\n",
    "\n",
    "### Prerequisite tasks\n",
    "- Knowing admin user and password for the target hots \n"
   ],
   "metadata": {}
  },
  {
   "cell_type": "markdown",
   "source": [
    "### Connect to target system"
   ],
   "metadata": {}
  },
  {
   "cell_type": "code",
   "execution_count": null,
   "source": [
    "import getpass\r\n",
    "target_host=input (\"Which is the hostname of the target machine? \")\r\n",
    "user=input (\"Which is your user to execute admin processes? \")\r\n",
    "password = getpass.getpass(\"Which is the password to use? \")"
   ],
   "outputs": [],
   "metadata": {}
  },
  {
   "cell_type": "markdown",
   "source": [
    "### Install latest version of Hasicorp Vault Server"
   ],
   "metadata": {}
  },
  {
   "cell_type": "markdown",
   "source": [
    "Previosuly, add the HashiCorp GPG key to your system"
   ],
   "metadata": {}
  },
  {
   "cell_type": "code",
   "execution_count": null,
   "source": [
    "%%bash -s \"$target_host\" \"$user\" \"$password\"\r\n",
    "tmpfile=\"/tmp/HasiCorp_GPG_key\"\r\n",
    "curl -fsSL https://apt.releases.hashicorp.com/gpg > $tmpfile\r\n",
    "if [ $? -eq 0 ];\r\n",
    "then \r\n",
    "  echo $3 | sudo -S apt-key add /tmp/HasiCorp_GPG_key\r\n",
    "  if [ $? -eq 0 ];\r\n",
    "  then\r\n",
    "    echo \"Key added\"\r\n",
    "    rm $tmpfile\r\n",
    "  else\r\n",
    "    echo \"Unexpected error adding the GPG Key\" $?  \r\n",
    "  fi\r\n",
    "else\r\n",
    "  echo \"Unexpected error downloading the GPG Key\" $?\r\n",
    "fi"
   ],
   "outputs": [],
   "metadata": {
    "scrolled": true
   }
  },
  {
   "cell_type": "markdown",
   "source": [
    "Add the official HashiCorp Linux repository"
   ],
   "metadata": {}
  },
  {
   "cell_type": "code",
   "execution_count": null,
   "source": [
    "%%bash -s \"$target_host\" \"$user\" \"$password\"\r\n",
    "if [ 'grep hashicorp /etc/apt/sources.list | wc -l' != 1 ];\r\n",
    "  then\r\n",
    "    echo $3 | sudo -S apt-add-repository \"deb [arch=amd64] https://apt.releases.hashicorp.com $(lsb_release -cs) main\"\r\n",
    "    if [ $? -eq 0 ];\r\n",
    "      then \r\n",
    "        echo \"HashiCorp Linux repository succesfully installed\"\r\n",
    "    fi\r\n",
    "  else\r\n",
    "    echo \"HashiCorp LInux repository already installed\"\r\n",
    "fi"
   ],
   "outputs": [],
   "metadata": {
    "scrolled": false
   }
  },
  {
   "cell_type": "markdown",
   "source": [
    "Then, update and install vault"
   ],
   "metadata": {}
  },
  {
   "cell_type": "code",
   "execution_count": null,
   "source": [
    "%%bash -s \"$target_host\" \"$user\" \"$password\"\r\n",
    "if [ 'which vault ! wc -l' == \"1\" ]; then\r\n",
    "  echo \"Vault already installed\"\r\n",
    "else\r\n",
    "  echo \"Starting installation of HashiCorp Vault\"\r\n",
    "  echo \"Checking apt update\"\r\n",
    "  echo $3 | sudo -S apt update\r\n",
    "  echo \"Install vault\"\r\n",
    "  echo $3 | sudo -S apt-get install -y vault\r\n",
    "fi"
   ],
   "outputs": [],
   "metadata": {
    "scrolled": true
   }
  },
  {
   "cell_type": "markdown",
   "source": [
    "### Start the server"
   ],
   "metadata": {}
  },
  {
   "cell_type": "markdown",
   "source": [
    "Now the server is installed, to start the following steps are required:\r\n",
    "\r\n",
    "- Start the server in DEV mode (in a separate terminal) with \"~/vault server -dev\"\r\n",
    "\r\n",
    "Open a new terminal window and then\r\n",
    "\r\n",
    "- first, export the variable VAULT_ADDR\r\n",
    "- Then, optionally, export the variable VAULT_TOKEN\r\n",
    "- Then, verify status of the server with \"~/vault status\"\r\n"
   ],
   "metadata": {}
  },
  {
   "cell_type": "markdown",
   "source": [
    "```bash\r\n",
    "$ vault server -dev\r\n",
    "...\r\n",
    "\r\n",
    "-- (as example) Unseal Key: gQdYRvr8HXEa8OJzRXL52/U3vvjBRXw53DxuqWjq4Nk=\r\n",
    "-- (as example) Root Token: s.yp1aA7bvBdXOetuBKIIZQBmk\r\n",
    "(terminal as server waiting)\r\n",
    "...\r\n",
    "```\r\n"
   ],
   "metadata": {}
  },
  {
   "cell_type": "code",
   "execution_count": null,
   "source": [
    "%%bash\r\n",
    "export VAULT_ADDR=http://127.0.0.1:8200\r\n",
    "export VAULT_TOKEN=s.yp1aA7bvBdXOetuBKIIZQBmk"
   ],
   "outputs": [],
   "metadata": {}
  },
  {
   "cell_type": "code",
   "execution_count": null,
   "source": [
    "%env VAULT_ADDR=http://127.0.0.1:8200\r\n",
    "%env VAULT_TOKEN=s.yp1aA7bvBdXOetuBKIIZQBmk"
   ],
   "outputs": [],
   "metadata": {}
  },
  {
   "cell_type": "markdown",
   "source": [
    "**Verify status of the server**\n",
    "\n",
    "Expected result:\n",
    "\n",
    "    Key       Value\n",
    "\n",
    "    xxxxxx    xxxxxxx\n",
    "\n",
    "    xxxxxx    xxxxxxx"
   ],
   "metadata": {}
  },
  {
   "cell_type": "code",
   "execution_count": null,
   "source": [
    "!vault status"
   ],
   "outputs": [],
   "metadata": {}
  },
  {
   "cell_type": "code",
   "execution_count": null,
   "source": [],
   "outputs": [],
   "metadata": {}
  }
 ],
 "metadata": {
  "kernelspec": {
   "display_name": "Python 3",
   "language": "python",
   "name": "python3"
  },
  "language_info": {
   "codemirror_mode": {
    "name": "ipython",
    "version": 3
   },
   "file_extension": ".py",
   "mimetype": "text/x-python",
   "name": "python",
   "nbconvert_exporter": "python",
   "pygments_lexer": "ipython3",
   "version": "3.6.9"
  }
 },
 "nbformat": 4,
 "nbformat_minor": 5
}