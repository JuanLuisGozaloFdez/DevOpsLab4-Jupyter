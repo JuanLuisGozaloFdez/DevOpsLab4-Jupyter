{
 "cells": [
  {
   "cell_type": "markdown",
   "id": "changing-thought",
   "metadata": {},
   "source": [
    "# Hasicorp Vault CLI Installation\n",
    "## DevOpsLab Example\n",
    "\n",
    "This package must be installed prior to execute any Hasicorp Vault CLi operation from the command line or calls form API python library\n",
    "\n",
    "### Prerequisite tasks\n",
    "- Knowing admin user and password for the target hots \n"
   ]
  },
  {
   "cell_type": "markdown",
   "id": "contained-blanket",
   "metadata": {},
   "source": [
    "### Connect to target system"
   ]
  },
  {
   "cell_type": "code",
   "execution_count": null,
   "id": "worth-aluminum",
   "metadata": {},
   "outputs": [],
   "source": [
    "import getpass\n",
    "target_host=input (\"Which is the hostname of the target machine? \")\n",
    "user=input (\"Which is your user to execute admin processes? \")\n",
    "password = getpass.getpass(\"Which is the password to use? \")"
   ]
  },
  {
   "cell_type": "markdown",
   "id": "ordinary-costume",
   "metadata": {},
   "source": [
    "### Install latest version of Hasicorp Vault Server"
   ]
  },
  {
   "cell_type": "markdown",
   "id": "efficient-remains",
   "metadata": {},
   "source": [
    "Previosuly, add the HashiCorp GPG key to your system"
   ]
  },
  {
   "cell_type": "code",
   "execution_count": null,
   "id": "informal-nigeria",
   "metadata": {
    "scrolled": true
   },
   "outputs": [],
   "source": [
    "%%bash -s \"$target_host\" \"$user\" \"$password\"\n",
    "tmpfile=\"/tmp/HasiCorp_GPG_key\"\n",
    "curl -fsSL https://apt.releases.hashicorp.com/gpg > $tmpfile\n",
    "if [ $? -eq 0 ];\n",
    "then \n",
    "  echo $3 | sudo -S apt-key add /tmp/HasiCorp_GPG_key\n",
    "  if [ $? -eq 0 ];\n",
    "  then\n",
    "    echo \"Key added\"\n",
    "    rm $tmpfile\n",
    "  else\n",
    "    echo \"Unexpected error adding the GPG Key\" $?  \n",
    "  fi\n",
    "else\n",
    "  echo \"Unexpected error downloading the GPG Key\" $?\n",
    "fi"
   ]
  },
  {
   "cell_type": "markdown",
   "id": "civic-disposal",
   "metadata": {},
   "source": [
    "Add the official HashiCorp Linux repository"
   ]
  },
  {
   "cell_type": "code",
   "execution_count": null,
   "id": "friendly-thesaurus",
   "metadata": {
    "scrolled": false
   },
   "outputs": [],
   "source": [
    "%%bash -s \"$target_host\" \"$user\" \"$password\"\n",
    "if [ 'grep hashicorp /etc/apt/sources.list | wc -l' != 1 ];\n",
    "  then\n",
    "    echo $3 | sudo -S apt-add-repository \"deb [arch=amd64] https://apt.releases.hashicorp.com $(lsb_release -cs) main\"\n",
    "    if [ $? -eq 0 ];\n",
    "      then \n",
    "        echo \"HashiCorp Linux repository succesfully installed\"\n",
    "    fi\n",
    "  else\n",
    "    echo \"HashiCorp LInux repository already installed\"\n",
    "fi"
   ]
  },
  {
   "cell_type": "markdown",
   "id": "amended-groove",
   "metadata": {},
   "source": [
    "Then, update and install vault"
   ]
  },
  {
   "cell_type": "code",
   "execution_count": null,
   "id": "simplified-reynolds",
   "metadata": {
    "scrolled": true
   },
   "outputs": [],
   "source": [
    "%%bash -s \"$target_host\" \"$user\" \"$password\"\n",
    "if [ 'which vault ! wc -l' == \"1\" ]; then\n",
    "  echo \"Vault already installed\"\n",
    "else\n",
    "  echo \"Starting installation of HashiCorp Vault\"\n",
    "  echo \"Checking apt update\"\n",
    "  echo $3 | sudo -S apt update\n",
    "  echo \"Install vault\"\n",
    "  echo $3 | sudo -S apt-get install -y vault\n",
    "fi"
   ]
  },
  {
   "cell_type": "markdown",
   "id": "double-laptop",
   "metadata": {},
   "source": [
    "### Start the server"
   ]
  },
  {
   "cell_type": "markdown",
   "id": "three-estimate",
   "metadata": {},
   "source": [
    "Now the server is installed, to start the following steps are required: \n",
    "- Start the server in DEV mode (in a separate terminal) with \n",
    "- export the variable VAULT_ADDR\n",
    "- export the variable VAULT_TOKEN\n",
    "- verify status of the server\n"
   ]
  },
  {
   "cell_type": "markdown",
   "id": "parallel-hypothetical",
   "metadata": {},
   "source": [
    "**Start the server: vault server dev**\n",
    "- (as example) Unseal Key: gQdYRvr8HXEa8OJzRXL52/U3vvjBRXw53DxuqWjq4Nk=\n",
    "- (as example) Root Token: s.yp1aA7bvBdXOetuBKIIZQBmk"
   ]
  },
  {
   "cell_type": "code",
   "execution_count": null,
   "id": "sufficient-treasure",
   "metadata": {},
   "outputs": [],
   "source": [
    "%%bash\n",
    "export VAULT_ADDR=\"https://127.0.0.1:8200\"\n",
    "export VAULT_TOKEN=\"s.yp1aA7bvBdXOetuBKIIZQBmk\""
   ]
  },
  {
   "cell_type": "markdown",
   "id": "limiting-tension",
   "metadata": {},
   "source": [
    "**Verify status of the server**\n",
    "\n",
    "Expected result:\n",
    "\n",
    "    Key       Value\n",
    "\n",
    "    xxxxxx    xxxxxxx\n",
    "\n",
    "    xxxxxx    xxxxxxx"
   ]
  },
  {
   "cell_type": "code",
   "execution_count": null,
   "id": "recorded-vitamin",
   "metadata": {},
   "outputs": [],
   "source": [
    "%%bash\n",
    "vault status"
   ]
  },
  {
   "cell_type": "code",
   "execution_count": null,
   "id": "cutting-lloyd",
   "metadata": {},
   "outputs": [],
   "source": []
  }
 ],
 "metadata": {
  "kernelspec": {
   "display_name": "Python 3",
   "language": "python",
   "name": "python3"
  },
  "language_info": {
   "codemirror_mode": {
    "name": "ipython",
    "version": 3
   },
   "file_extension": ".py",
   "mimetype": "text/x-python",
   "name": "python",
   "nbconvert_exporter": "python",
   "pygments_lexer": "ipython3",
   "version": "3.6.9"
  }
 },
 "nbformat": 4,
 "nbformat_minor": 5
}
