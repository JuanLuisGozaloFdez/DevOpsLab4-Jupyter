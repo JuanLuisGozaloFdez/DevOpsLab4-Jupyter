{
 "cells": [
  {
   "cell_type": "markdown",
   "source": [
    "# AWS Secret Management\n",
    "## DevOpsLab Example\n",
    "\n",
    "### Prerequisite tasks\n",
    "To set up and run this example, you must first set up the following:\n",
    "- Install AWS CLI 2 as described in the **\"1.0.AWS_CLI_2_Installation\"** notebook.\n",
    "- Configure your AWS credentials, as described in [Quickstart](https://boto3.amazonaws.com/v1/documentation/api/latest/guide/quickstart.html) using the AWS CLI or the AWS Console IAM Manager.\n",
    "   - Run \"aws-configure\" from the console. \n",
    "   - Input your \"AWS Access Key ID\" and \"AWS Secret Access Key\" and \"Default region name\".\n",
    "       - This will create a directory \".aws\" and the files \"config\" and \"credentials\" (you must edit later if required). \n",
    "       - Boto3 will also search the ~/.aws/config file when looking for configuration values. You can change the location of this file by setting the AWS_CONFIG_FILE environment variable.\n",
    "   - **NOTE**: The credential file has your AWS Keys so must not be located in a public repository.\n",
    "- Create a secret with the AWS Secrets Manager, as described in the [AWS Secrets Manager Developer Guide](https://docs.aws.amazon.com/secretsmanager/latest/userguide/manage_create-basic-secret.html) and it has been described in the Lab.\n",
    "- Install boto3 library in your environment using *pip install boto3* as described in the **\"1.1.AWS_Boto3_Installation\"** notebook if it is not already done\n",
    "- Modify the parameters \"secret_name\" and \"region_name\" to set your own data in the next code for the example"
   ],
   "metadata": {}
  },
  {
   "cell_type": "markdown",
   "source": [
    "### Retrieve the secret value"
   ],
   "metadata": {}
  },
  {
   "cell_type": "markdown",
   "source": [
    "The following example shows how to:\n",
    "Retrieve a secret value using [get_secret_value](https://boto3.amazonaws.com/v1/documentation/api/latest/reference/services/secretsmanager.html#SecretsManager.Client.get_secret_value) funtion"
   ],
   "metadata": {}
  },
  {
   "cell_type": "code",
   "execution_count": null,
   "source": [
    "import boto3\r\n",
    "from botocore.exceptions import ClientError"
   ],
   "outputs": [],
   "metadata": {}
  },
  {
   "cell_type": "code",
   "execution_count": null,
   "source": [
    "def get_secret():\r\n",
    "    secret_name = \"my_secret_name\"\r\n",
    "    region_name = \"my_region_name\"\r\n",
    "    \r\n",
    "    session = boto3.session.Session()\r\n",
    "    client = session.client(\r\n",
    "        service_name='secretsmanager',\r\n",
    "        region_name=region_name,\r\n",
    "    )\r\n",
    "\r\n",
    "    try:\r\n",
    "        get_secret_value_response = client.get_secret_value(\r\n",
    "            SecretId=secret_name)\r\n",
    "    except ClientError as e:\r\n",
    "        if e.response['Error']['Code'] == 'DecryptionFailureException':\r\n",
    "            # Secrets Manager can't decrypt the protected secret text using the provided KMS key.\r\n",
    "            # Deal with the exception here, and/or rethrow at your discretion.\r\n",
    "            raise e\r\n",
    "        elif e.response['Error']['Code'] == 'InternalServiceErrorException':\r\n",
    "            # An error occurred on the server side.\r\n",
    "            # Deal with the exception here, and/or rethrow at your discretion.\r\n",
    "            raise e\r\n",
    "        elif e.response['Error']['Code'] == 'InvalidParameterException':\r\n",
    "            # You provided an invalid value for a parameter.\r\n",
    "            # Deal with the exception here, and/or rethrow at your discretion.\r\n",
    "            raise e\r\n",
    "        elif e.response['Error']['Code'] == 'InvalidRequestException':\r\n",
    "            # You provided a parameter value that is not valid for the current state of the resource.\r\n",
    "            # Deal with the exception here, and/or rethrow at your discretion.\r\n",
    "            raise e\r\n",
    "        elif e.response['Error']['Code'] == 'ResourceNotFoundException':\r\n",
    "            # We can't find the resource that you asked for.\r\n",
    "            # Deal with the exception here, and/or rethrow at your discretion.\r\n",
    "            raise e\r\n",
    "    else:\r\n",
    "        # Decrypts secret using the associated KMS CMK.\r\n",
    "        # Depending on whether the secret is a string or binary, one of these fields will be populated.\r\n",
    "        if 'SecretString' in get_secret_value_response:\r\n",
    "            secret = get_secret_value_response['SecretString']\r\n",
    "        else:\r\n",
    "            decoded_binary_secret = base64.b64decode(get_secret_value_response['SecretBinary'])\r\n",
    "            \r\n",
    "    # Your code goes here. \r\n",
    "\r\n",
    "        print (\"The Secret that has been retrieved and can be used is: \", text_secret_data)"
   ],
   "outputs": [],
   "metadata": {}
  },
  {
   "cell_type": "code",
   "execution_count": null,
   "source": [
    "get_secret()"
   ],
   "outputs": [],
   "metadata": {}
  },
  {
   "cell_type": "code",
   "execution_count": null,
   "source": [],
   "outputs": [],
   "metadata": {}
  }
 ],
 "metadata": {
  "kernelspec": {
   "display_name": "Python 3",
   "language": "python",
   "name": "python3"
  },
  "language_info": {
   "codemirror_mode": {
    "name": "ipython",
    "version": 3
   },
   "file_extension": ".py",
   "mimetype": "text/x-python",
   "name": "python",
   "nbconvert_exporter": "python",
   "pygments_lexer": "ipython3",
   "version": "3.6.9"
  }
 },
 "nbformat": 4,
 "nbformat_minor": 5
}