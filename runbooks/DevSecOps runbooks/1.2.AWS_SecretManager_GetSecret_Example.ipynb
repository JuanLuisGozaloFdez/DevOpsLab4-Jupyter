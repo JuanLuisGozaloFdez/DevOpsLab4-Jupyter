{
 "cells": [
  {
   "cell_type": "markdown",
   "id": "changing-thought",
   "metadata": {},
   "source": [
    "# AWS Secret Management\n",
    "## DevOpsLab Example\n",
    "\n",
    "### Prerequisite tasks\n",
    "To set up and run this example, you must first set up the following:\n",
    "- Install AWS CLI 2 as described in the **\"1.0.AWS_CLI_2_Installation\"** notebook.\n",
    "- Configure your AWS credentials, as described in [Quickstart](https://boto3.amazonaws.com/v1/documentation/api/latest/guide/quickstart.html) using the AWS CLI or the AWS Console IAM Manager.\n",
    "   - Run \"aws-configure\" from the console. \n",
    "   - Input your \"AWS Access Key ID\" and \"AWS Secret Access Key\" and \"Default region name\".\n",
    "       - This will create a directory \".aws\" and the files \"config\" and \"credentials\" (you must edit later if required). \n",
    "       - Boto3 will also search the ~/.aws/config file when looking for configuration values. You can change the location of this file by setting the AWS_CONFIG_FILE environment variable.\n",
    "   - **NOTE**: The credential file has your AWS Keys so must not be located in a public repository.\n",
    "- Create a secret with the AWS Secrets Manager, as described in the [AWS Secrets Manager Developer Guide](https://docs.aws.amazon.com/secretsmanager/latest/userguide/manage_create-basic-secret.html) and it has been described in the Lab.\n",
    "- Install boto3 library in your environment using *pip install boto3* as described in the **\"1.1.AWS_Boto3_Installation\"** notebook if it is not already done\n",
    "- Modify the parameters \"secret_name\" and \"region_name\" to set your own data in the next code for the example"
   ]
  },
  {
   "cell_type": "markdown",
   "id": "ordinary-costume",
   "metadata": {},
   "source": [
    "### Retrieve the secret value"
   ]
  },
  {
   "cell_type": "markdown",
   "id": "efficient-remains",
   "metadata": {},
   "source": [
    "The following example shows how to:\n",
    "Retrieve a secret value using [get_secret_value](https://boto3.amazonaws.com/v1/documentation/api/latest/reference/services/secretsmanager.html#SecretsManager.Client.get_secret_value) funtion"
   ]
  },
  {
   "cell_type": "code",
   "execution_count": null,
   "id": "strategic-essay",
   "metadata": {},
   "outputs": [],
   "source": [
    "import boto3\n",
    "from botocore.exceptions import ClientError"
   ]
  },
  {
   "cell_type": "code",
   "execution_count": null,
   "id": "engaging-table",
   "metadata": {},
   "outputs": [],
   "source": [
    "def get_secret():\n",
    "    secret_name = \"my_secret_name\"\n",
    "    region_name = \"my_region_name\"\n",
    "    \n",
    "    session = boto3.session.Session()\n",
    "    client = session.client(\n",
    "        service_name='secretsmanager',\n",
    "        region_name=region_name,\n",
    "    )\n",
    "\n",
    "    try:\n",
    "        get_secret_value_response = client.get_secret_value(\n",
    "            SecretId=secret_name)\n",
    "    except ClientError as e:\n",
    "        if e.response['Error']['Code'] == 'ResourceNotFoundException':\n",
    "            print(\"The requested secret \" + secret_name + \" was not found\")\n",
    "        elif e.response['Error']['Code'] == 'InvalidRequestException':\n",
    "            print(\"The request was invalid due to:\", e)\n",
    "        elif e.response['Error']['Code'] == 'InvalidParameterException':\n",
    "            print(\"The request had invalid params:\", e)\n",
    "    else:\n",
    "        # Secrets Manager decrypts the secret value using the associated KMS CMK\n",
    "        # Depending on whether the secret was a string or binary, only one of these fields will be populated\n",
    "        if 'SecretString' in get_secret_value_response:\n",
    "            text_secret_data = get_secret_value_response['SecretString']\n",
    "        else:\n",
    "            binary_secret_data = get_secret_value_response['SecretBinary']\n",
    "\n",
    "        # Your code goes here.\n",
    "        print (\"The Secret that has been retrieved and can be used is: \", text_secret_data)"
   ]
  },
  {
   "cell_type": "code",
   "execution_count": null,
   "id": "short-agency",
   "metadata": {},
   "outputs": [],
   "source": [
    "get_secret()"
   ]
  },
  {
   "cell_type": "code",
   "execution_count": null,
   "id": "scenic-spanking",
   "metadata": {},
   "outputs": [],
   "source": []
  }
 ],
 "metadata": {
  "kernelspec": {
   "display_name": "Python 3",
   "language": "python",
   "name": "python3"
  },
  "language_info": {
   "codemirror_mode": {
    "name": "ipython",
    "version": 3
   },
   "file_extension": ".py",
   "mimetype": "text/x-python",
   "name": "python",
   "nbconvert_exporter": "python",
   "pygments_lexer": "ipython3",
   "version": "3.6.9"
  }
 },
 "nbformat": 4,
 "nbformat_minor": 5
}
