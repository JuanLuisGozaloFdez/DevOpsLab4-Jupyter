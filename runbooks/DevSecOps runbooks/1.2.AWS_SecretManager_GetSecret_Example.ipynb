{
 "cells": [
  {
   "cell_type": "markdown",
   "source": [
    "# AWS Secret Management\r\n",
    "\r\n",
    "## Prerequisite tasks\r\n",
    "\r\n",
    "To set up and run this example, you must first set up the following:\r\n",
    "\r\n",
    "1. Install AWS CLI 2 as described in the **\"1.0.AWS_CLI_2_Installation\"** notebook.\r\n",
    "2. Configure your AWS credentials, as described in [Quickstart](https://boto3.amazonaws.com/v1/documentation/api/latest/guide/quickstart.html) using the AWS CLI or the AWS Console IAM Manager.\r\n",
    "3. Run locally the \"aws configure\" from the console to store locally your credentials to connect to AWS using the CLI.\r\n",
    "   - Input your \"AWS Access Key ID\" and \"AWS Secret Access Key\" and \"Default region name\".\r\n",
    "   - This will create a directory \".aws\" and the files \"config\" and \"credentials\" (you must edit later if required).\r\n",
    "4. Create a secret with the AWS Secrets Manager, as described in the [AWS Secrets Manager Developer Guide](https://docs.aws.amazon.com/secretsmanager/latest/userguide/manage_create-basic-secret.html) and it has been described in the Lab.\r\n",
    "5. Install boto3 library in your environment as described in the **\"1.1.AWS_Boto3_Installation\"** notebook (if it is not already done)\r\n",
    "6. Modify the parameters \"secret_name\" and \"region_name\" to set your own data in the next cell code for this example.\r\n",
    "  \r\n",
    "**NOTE**: Boto3 will also search the ~/.aws/config file when looking for configuration values. You can change the location of this file by setting the AWS_CONFIG_FILE environment variable.\r\n",
    "**NOTE**: The credential file has your AWS Keys so must not be located in a public source control repository.\r\n"
   ],
   "metadata": {}
  },
  {
   "cell_type": "markdown",
   "source": [
    "### Retrieve the secret value"
   ],
   "metadata": {}
  },
  {
   "cell_type": "markdown",
   "source": [
    "The following example shows how to:\n",
    "Retrieve a secret value using [get_secret_value](https://boto3.amazonaws.com/v1/documentation/api/latest/reference/services/secretsmanager.html#SecretsManager.Client.get_secret_value) funtion"
   ],
   "metadata": {}
  },
  {
   "cell_type": "code",
   "execution_count": null,
   "source": [
    "import boto3\r\n",
    "from botocore.exceptions import ClientError"
   ],
   "outputs": [],
   "metadata": {}
  },
  {
   "cell_type": "code",
   "execution_count": null,
   "source": [
    "def get_secret():\r\n",
    "    secret_name = \"my_secret_name\"\r\n",
    "    region_name = \"my_region_name\"\r\n",
    "    \r\n",
    "    session = boto3.session.Session()\r\n",
    "    client = session.client(\r\n",
    "        service_name='secretsmanager',\r\n",
    "        region_name=region_name,\r\n",
    "    )\r\n",
    "\r\n",
    "    try:\r\n",
    "        get_secret_value_response = client.get_secret_value(\r\n",
    "            SecretId=secret_name)\r\n",
    "    except ClientError as e:\r\n",
    "        if e.response['Error']['Code'] == 'DecryptionFailureException':\r\n",
    "            # Secrets Manager can't decrypt the protected secret text using the provided KMS key.\r\n",
    "            # Deal with the exception here, and/or rethrow at your discretion.\r\n",
    "            raise e\r\n",
    "        elif e.response['Error']['Code'] == 'InternalServiceErrorException':\r\n",
    "            # An error occurred on the server side.\r\n",
    "            # Deal with the exception here, and/or rethrow at your discretion.\r\n",
    "            raise e\r\n",
    "        elif e.response['Error']['Code'] == 'InvalidParameterException':\r\n",
    "            # You provided an invalid value for a parameter.\r\n",
    "            # Deal with the exception here, and/or rethrow at your discretion.\r\n",
    "            raise e\r\n",
    "        elif e.response['Error']['Code'] == 'InvalidRequestException':\r\n",
    "            # You provided a parameter value that is not valid for the current state of the resource.\r\n",
    "            # Deal with the exception here, and/or rethrow at your discretion.\r\n",
    "            raise e\r\n",
    "        elif e.response['Error']['Code'] == 'ResourceNotFoundException':\r\n",
    "            # We can't find the resource that you asked for.\r\n",
    "            # Deal with the exception here, and/or rethrow at your discretion.\r\n",
    "            raise e\r\n",
    "    else:\r\n",
    "        # Decrypts secret using the associated KMS CMK.\r\n",
    "        # Depending on whether the secret is a string or binary, one of these fields will be populated.\r\n",
    "        if 'SecretString' in get_secret_value_response:\r\n",
    "            secret = get_secret_value_response['SecretString']\r\n",
    "        else:\r\n",
    "            decoded_binary_secret = base64.b64decode(get_secret_value_response['SecretBinary'])\r\n",
    "            \r\n",
    "    # Your code goes here. \r\n",
    "\r\n",
    "        print (\"The Secret that has been retrieved and can be used is: \", secret)"
   ],
   "outputs": [],
   "metadata": {}
  },
  {
   "cell_type": "code",
   "execution_count": null,
   "source": [
    "get_secret()"
   ],
   "outputs": [],
   "metadata": {}
  },
  {
   "cell_type": "code",
   "execution_count": null,
   "source": [],
   "outputs": [],
   "metadata": {}
  }
 ],
 "metadata": {
  "kernelspec": {
   "display_name": "Python 3",
   "language": "python",
   "name": "python3"
  },
  "language_info": {
   "codemirror_mode": {
    "name": "ipython",
    "version": 3
   },
   "file_extension": ".py",
   "mimetype": "text/x-python",
   "name": "python",
   "nbconvert_exporter": "python",
   "pygments_lexer": "ipython3",
   "version": "3.6.9"
  }
 },
 "nbformat": 4,
 "nbformat_minor": 5
}