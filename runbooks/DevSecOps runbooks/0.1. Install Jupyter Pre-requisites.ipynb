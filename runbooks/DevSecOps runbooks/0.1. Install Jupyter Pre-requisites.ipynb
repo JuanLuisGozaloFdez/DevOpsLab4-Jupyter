{
 "cells": [
  {
   "cell_type": "markdown",
   "id": "naked-opportunity",
   "metadata": {},
   "source": [
    "# Jupyter Notebook Installation (Pre-requisites)"
   ]
  },
  {
   "cell_type": "markdown",
   "id": "finished-ethernet",
   "metadata": {},
   "source": [
    "**Objective**:\n",
    "Run this runbook to ckeck if Jupyter Notebook Pre-requisites are installed or not and, if required, fix it!\n",
    "\n",
    "The prerequisites are:\n",
    "- python3\n",
    "- pip\n",
    "- virtualenv\n",
    "\n",
    "**Steps to ckeck**:\n",
    "\n",
    "0. Connect to system\n",
    "1. Verfiy python installed version (if any)\n",
    "2. If Python is version 2, then uninstall\n",
    "3. Install python3\n",
    "4. Install pip\n",
    "5. Install virtualenv\n"
   ]
  },
  {
   "cell_type": "markdown",
   "id": "bc471307",
   "metadata": {},
   "source": [
    "### 0. Connect to the target system"
   ]
  },
  {
   "cell_type": "code",
   "execution_count": null,
   "id": "enabling-bones",
   "metadata": {},
   "outputs": [],
   "source": [
    "%run \"0.0. Connect to the target system.ipynb\""
   ]
  },
  {
   "cell_type": "markdown",
   "id": "silent-reservoir",
   "metadata": {},
   "source": [
    "### 1. Verify Python version"
   ]
  },
  {
   "cell_type": "markdown",
   "id": "yellow-fountain",
   "metadata": {},
   "source": [
    "To verify the installed python version we use the \"which\" operating system command (python3 is installed by default in Ubuntu 18.04 and later)"
   ]
  },
  {
   "cell_type": "code",
   "execution_count": null,
   "id": "textile-johnston",
   "metadata": {},
   "outputs": [],
   "source": [
    "!which python3"
   ]
  },
  {
   "cell_type": "markdown",
   "id": "alive-extraction",
   "metadata": {},
   "source": [
    "If it is not installed, then we proceed. Otherwise, we can move to point 4&5 (pip and virtualenv checking)"
   ]
  },
  {
   "cell_type": "markdown",
   "id": "insured-appraisal",
   "metadata": {},
   "source": [
    "### 2. Uninstall Python2.x"
   ]
  },
  {
   "cell_type": "markdown",
   "id": "backed-valley",
   "metadata": {},
   "source": [
    "Check if python2 is installed and then uninstall"
   ]
  },
  {
   "cell_type": "code",
   "execution_count": null,
   "id": "retained-binding",
   "metadata": {},
   "outputs": [],
   "source": [
    "%%bash -s \"$target_host\" \"$user\" \"$password\"\n",
    "python_location=\"$(which python)\"\n",
    "python_version=\"$(${python_location} --version)\"\n",
    "if [[ \"${python_version}\" = \"Python 2.\"* ]]; then\n",
    "    echo \"version 2 found\"\n",
    "     # uninstalling python 2\n",
    "     echo $3 | sudo -S apt remove -y python\n",
    "     echo $3 | sudo -S apt autoremove -y\n",
    "else\n",
    "   echo \"Python version 3 already installed\"\n",
    "   \n",
    "fi"
   ]
  },
  {
   "cell_type": "markdown",
   "id": "damaged-sociology",
   "metadata": {},
   "source": [
    "### 3. Install Python3.x"
   ]
  },
  {
   "cell_type": "markdown",
   "id": "pressed-trinidad",
   "metadata": {},
   "source": [
    "To do Python3 installation, the following steps will be executed:\n",
    "\n",
    "- Check last software configuration is update\n",
    "- Install pre-requisites (if needed)\n",
    "- Install python3\n",
    "- Verify installation has been completed succesfully"
   ]
  },
  {
   "cell_type": "code",
   "execution_count": null,
   "id": "social-brooks",
   "metadata": {},
   "outputs": [],
   "source": [
    "%%bash -s \"$target_host\" \"$user\" \"$password\"\n",
    "program_location=\"$(which python)\"\n",
    "program_version=\"$(${program_location} --version)\"\n",
    "if [[ \"$program_version\" == \"Python 3.\"* ]]; then\n",
    "  echo \"Python version 3 already installed\"\n",
    "else\n",
    "  echo \"Starting installation of Python3\"\n",
    "  echo \"Checking apt update\"\n",
    "  echo $3 | sudo -S apt update\n",
    "  echo \"Install software-properties-common\"\n",
    "  echo $3 | sudo -S apt install -y software-properties-common\n",
    "  echo \"Install python3\"\n",
    "  echo $3 | sudo -S apt install -y python3\n",
    "fi\n",
    "# python3 -V\n",
    "${program_location} --version"
   ]
  },
  {
   "cell_type": "markdown",
   "id": "bacterial-boost",
   "metadata": {},
   "source": [
    "### 4. Instalar *pip*"
   ]
  },
  {
   "cell_type": "markdown",
   "id": "included-sussex",
   "metadata": {},
   "source": [
    "Procedemos a instalar \"pip\" en el sistema"
   ]
  },
  {
   "cell_type": "code",
   "execution_count": null,
   "id": "rough-cyprus",
   "metadata": {},
   "outputs": [],
   "source": [
    "%%bash -s \"$target_host\" \"$user\" \"$password\"\n",
    "program_location=\"$(which pip3)\"\n",
    "program_version=\"$(${program_location} --version)\"\n",
    "if [[ \"$program_version\" == \"pip\"* ]]; then\n",
    "  echo \"pip package already installed\"\n",
    "else\n",
    "  echo \"Starting installation of pip package\"\n",
    "  echo \"Checking apt update\"\n",
    "  echo $3 | sudo -S apt update\n",
    "  echo \"Install pip\"\n",
    "  echo $3 | sudo -S apt install -y python3-pip\n",
    "fi\n",
    "${program_location} --version"
   ]
  },
  {
   "cell_type": "markdown",
   "id": "lovely-estonia",
   "metadata": {},
   "source": [
    "### 5. Instalar entorno virtual *virtualenv*"
   ]
  },
  {
   "cell_type": "markdown",
   "id": "intense-logistics",
   "metadata": {},
   "source": [
    "When python3 and pip are already installed, it can proceed the virtual environment installation for jupyter.\n",
    "The \"-H\" modifier will ensure that the \"home\" environment variable is set as the initial directory of the user.\n"
   ]
  },
  {
   "cell_type": "code",
   "execution_count": null,
   "id": "german-manual",
   "metadata": {},
   "outputs": [],
   "source": [
    "%%bash -s \"$target_host\" \"$user\" \"$password\"\n",
    "program_location=\"$(which virtualenv)\"\n",
    "program_version=\"$(${program_location} --version)\"\n",
    "if [[ \"$program_version\" == \"virtualenv\"* ]]; then\n",
    "  echo \"virtualenv package already installed\"\n",
    "else\n",
    "  echo \"Starting installation of virtualenv package\"\n",
    "  echo $3 | sudo -S -H pip3 install -y virtualenv\n",
    "fi\n",
    "${program_location} --version"
   ]
  },
  {
   "cell_type": "markdown",
   "id": "careful-karen",
   "metadata": {},
   "source": [
    "When *virtualenv* is installed, finally the rest of environment is created and the connection to the kernel is available.\n",
    "\n",
    "If everything is fine, the prompt will show something similar to \"(jupyter-env)user@hots:~/jupyter-dir$\"\n"
   ]
  },
  {
   "cell_type": "code",
   "execution_count": null,
   "id": "dying-reader",
   "metadata": {},
   "outputs": [],
   "source": [
    "%%bash\n",
    "mkdir ~/jupyter-dir\n",
    "cd ~/jupyter-dir\n",
    "virtualenv jupyter-env\n",
    "source jupyter-env/bin/activate"
   ]
  }
 ],
 "metadata": {
  "kernelspec": {
   "display_name": "Python 3",
   "language": "python",
   "name": "python3"
  },
  "language_info": {
   "codemirror_mode": {
    "name": "ipython",
    "version": 3
   },
   "file_extension": ".py",
   "mimetype": "text/x-python",
   "name": "python",
   "nbconvert_exporter": "python",
   "pygments_lexer": "ipython3",
   "version": "3.6.9"
  }
 },
 "nbformat": 4,
 "nbformat_minor": 5
}
