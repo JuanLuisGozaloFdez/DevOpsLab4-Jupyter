{
 "cells": [
  {
   "cell_type": "markdown",
   "id": "naked-opportunity",
   "metadata": {},
   "source": [
    "# Jupyter Notebook Execution"
   ]
  },
  {
   "cell_type": "markdown",
   "id": "finished-ethernet",
   "metadata": {},
   "source": [
    "**Objective**:\n",
    "Run this runbook to verify if Jupyter Notebook is running and, if not, start it!\n",
    "\n",
    "**Steps to ckeck**:\n",
    "1. Connect to system\n",
    "2. Verify if jupyter notebook is running\n",
    "3. Run jupyter notebook\n"
   ]
  },
  {
   "cell_type": "markdown",
   "id": "pending-converter",
   "metadata": {},
   "source": [
    "### 1. Connect to the target system"
   ]
  },
  {
   "cell_type": "code",
   "execution_count": null,
   "id": "entire-ireland",
   "metadata": {},
   "outputs": [],
   "source": [
    "%run \"0.0. Connect to the target system.ipynb\""
   ]
  },
  {
   "cell_type": "markdown",
   "id": "outside-colorado",
   "metadata": {},
   "source": [
    "### 2, Verify running in the system"
   ]
  },
  {
   "cell_type": "code",
   "execution_count": null,
   "id": "geographic-complaint",
   "metadata": {},
   "outputs": [],
   "source": [
    "%%bash\n",
    "PROCESS_CMD='ps -a'\n",
    "STATUS_SCRIPT='eval ${PROCESS_CMD} | grep jupyter | wc -l'\n",
    "# ssh -i ${1} ${STATUS_SCRIPT}\n",
    "d=$(${STATUS_SCRIPT})\n",
    "if [ ${d} == \"1\" ]; \n",
    "then\n",
    "  echo \"Jupyter is already running\"\n",
    "else\n",
    "  echo \"Jupyter is not running\"\n",
    "fi"
   ]
  },
  {
   "cell_type": "markdown",
   "id": "native-archives",
   "metadata": {},
   "source": [
    "## 3. Start Jupyter kernel"
   ]
  },
  {
   "cell_type": "markdown",
   "id": "tracked-reason",
   "metadata": {},
   "source": [
    "### 3.1. In local machine"
   ]
  },
  {
   "cell_type": "markdown",
   "id": "frozen-prime",
   "metadata": {},
   "source": [
    "If the kernel is going to be executed in local machine and not in a server, the envionment could be started directly with the URL that is shown in the terminal console."
   ]
  },
  {
   "cell_type": "code",
   "execution_count": null,
   "id": "colonial-isolation",
   "metadata": {},
   "outputs": [],
   "source": [
    "!jupyter notebook"
   ]
  },
  {
   "cell_type": "markdown",
   "id": "meaning-patient",
   "metadata": {},
   "source": [
    "### 3.2. In a server"
   ]
  },
  {
   "cell_type": "markdown",
   "id": "partial-desperate",
   "metadata": {},
   "source": [
    "If the kernel is installed in a server machine, and we want to start from a local machine, then we need to connect to the server, mappings the port and the start the kernel and take the URL to connect"
   ]
  },
  {
   "cell_type": "code",
   "execution_count": null,
   "id": "governmental-aquatic",
   "metadata": {},
   "outputs": [],
   "source": [
    "%%bash\n",
    "ssh -L 8888:localhost:8888 your-server-username@your-server-ip\n",
    "jupyter notebook"
   ]
  }
 ],
 "metadata": {
  "kernelspec": {
   "display_name": "Python 3",
   "language": "python",
   "name": "python3"
  },
  "language_info": {
   "codemirror_mode": {
    "name": "ipython",
    "version": 3
   },
   "file_extension": ".py",
   "mimetype": "text/x-python",
   "name": "python",
   "nbconvert_exporter": "python",
   "pygments_lexer": "ipython3",
   "version": "3.6.9"
  }
 },
 "nbformat": 4,
 "nbformat_minor": 5
}
