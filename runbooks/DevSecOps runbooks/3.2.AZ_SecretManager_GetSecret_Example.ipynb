{
 "cells": [
  {
   "cell_type": "markdown",
   "metadata": {},
   "source": [
    "# AZ Identity Secret Management\n",
    "\n",
    "## Prerequisite tasks\n",
    "\n",
    "To set up and run this example, you must first set up the following:\n",
    "\n",
    "1. Install AZ CLI as described in the **\"3.0.AZ_CLI_Installation\"** notebook.\n",
    "2. Install azure-identity and azure-keyvault-secrets libraries in your environment as described in the **\"3.1.AZ_python_library_Installation\"** notebook (if it is not already done)\n",
    "3. Login to the AZ account to operate using the **\"3.9.Connect to the AZ target system\"** notebook"
   ]
  },
  {
   "cell_type": "code",
   "execution_count": null,
   "id": "329a8287",
   "metadata": {},
   "outputs": [],
   "source": [
    "%run \"3.9. Connect to the AZ target system.ipynb\""
   ]
  },
  {
   "cell_type": "markdown",
   "id": "eae06c71",
   "metadata": {},
   "source": [
    "### Create a resource group and a key vault for the example"
   ]
  },
  {
   "cell_type": "code",
   "execution_count": null,
   "id": "fc501d8e",
   "metadata": {},
   "outputs": [],
   "source": [
    "!az group create --name myResourceGroup --location \"EastUS\""
   ]
  },
  {
   "cell_type": "code",
   "execution_count": null,
   "id": "68f892c4",
   "metadata": {},
   "outputs": [],
   "source": [
    "!az keyvault create --name aTestKeyvault --resource-group myResourceGroup --location \"EastUS\""
   ]
  },
  {
   "cell_type": "markdown",
   "id": "8fd83346",
   "metadata": {},
   "source": [
    "### Set Environmental variable KEY_VAULT_NAME"
   ]
  },
  {
   "cell_type": "code",
   "execution_count": null,
   "id": "bff61a14",
   "metadata": {},
   "outputs": [],
   "source": [
    "!export KEY_VAULT_NAME=aTestKeyvault"
   ]
  },
  {
   "cell_type": "code",
   "execution_count": null,
   "id": "e87342e5",
   "metadata": {},
   "outputs": [],
   "source": [
    "%env KEY_VAULT_NAME =aTestKeyvault"
   ]
  },
  {
   "cell_type": "markdown",
   "id": "00214286",
   "metadata": {},
   "source": [
    "### Grant access to the key vault \n",
    "\n",
    "(modify as required)"
   ]
  },
  {
   "cell_type": "code",
   "execution_count": null,
   "id": "ef111d97",
   "metadata": {},
   "outputs": [],
   "source": [
    "!az keyvault set-policy --name aTestKeyvault --upn user@domain --secret-permissions delete get list set"
   ]
  },
  {
   "cell_type": "markdown",
   "metadata": {},
   "source": [
    "### Basic operations over the secret value"
   ]
  },
  {
   "cell_type": "markdown",
   "metadata": {},
   "source": [
    "The following example shows how to:\n",
    "Retrieve a secret value using [get_secret_value](https://boto3.amazonaws.com/v1/documentation/api/latest/reference/services/secretsmanager.html#SecretsManager.Client.get_secret_value) funtion"
   ]
  },
  {
   "cell_type": "code",
   "execution_count": null,
   "metadata": {},
   "outputs": [],
   "source": [
    "import os\n",
    "from azure.keyvault.secrets import SecretClient\n",
    "from azure.identity import DefaultAzureCredential"
   ]
  },
  {
   "cell_type": "code",
   "execution_count": null,
   "metadata": {},
   "outputs": [],
   "source": [
    "def put_secret():\n",
    "\n",
    "    keyVaultName = os.environ[\"KEY_VAULT_NAME\"]\n",
    "    KVUri = f\"https://{keyVaultName}.vault.azure.net\"\n",
    "\n",
    "    credential = DefaultAzureCredential()\n",
    "    client = SecretClient(vault_url=KVUri, credential=credential)\n",
    "\n",
    "    secretName = input(\"Input a name for your secret > \")\n",
    "    secretValue = input(\"Input a value for your secret > \")\n",
    "\n",
    "    print(f\"Creating a secret in {keyVaultName} called '{secretName}' with the value '{secretValue}' ...\")\n",
    "    client.set_secret(secretName, secretValue)\n",
    "    print(\" done.\")"
   ]
  },
  {
   "cell_type": "code",
   "execution_count": null,
   "id": "f1084c1f",
   "metadata": {},
   "outputs": [],
   "source": [
    "def get_secret():\n",
    "\n",
    "    keyVaultName = os.environ[\"KEY_VAULT_NAME\"]\n",
    "    KVUri = f\"https://{keyVaultName}.vault.azure.net\"\n",
    "\n",
    "    credential = DefaultAzureCredential()\n",
    "    client = SecretClient(vault_url=KVUri, credential=credential)\n",
    "\n",
    "    secretName = input(\"Input the name of your secret > \")\n",
    "    \n",
    "    print(f\"Retrieving your secret {secretName} from {keyVaultName}.\")\n",
    "    retrieved_secret = client.get_secret(secretName)\n",
    "    print(f\"Your secret is '{retrieved_secret.value}'.\")\n",
    "    print(\" done.\")\n",
    "    \n",
    "    poller = client.begin_delete_secret(secretName)\n",
    "    deleted_secret = poller.result()\n",
    "\n",
    "    print(\" done.\")"
   ]
  },
  {
   "cell_type": "code",
   "execution_count": null,
   "id": "afa766cb",
   "metadata": {},
   "outputs": [],
   "source": [
    "def delete_secret():\n",
    "\n",
    "    keyVaultName = os.environ[\"KEY_VAULT_NAME\"]\n",
    "    KVUri = f\"https://{keyVaultName}.vault.azure.net\"\n",
    "\n",
    "    credential = DefaultAzureCredential()\n",
    "    client = SecretClient(vault_url=KVUri, credential=credential)\n",
    "\n",
    "    secretName = input(\"Input the name of your secret > \")\n",
    "\n",
    "    print(f\"Deleting your secret {secretName} from {keyVaultName} ...\")\n",
    "    poller = client.begin_delete_secret(secretName)\n",
    "    deleted_secret = poller.result()\n",
    "\n",
    "    print(\" done.\")"
   ]
  },
  {
   "cell_type": "code",
   "execution_count": null,
   "metadata": {},
   "outputs": [],
   "source": [
    "put_secret()"
   ]
  },
  {
   "cell_type": "code",
   "execution_count": null,
   "id": "cb636197",
   "metadata": {},
   "outputs": [],
   "source": [
    "get_secret()"
   ]
  },
  {
   "cell_type": "code",
   "execution_count": null,
   "id": "51076b0e",
   "metadata": {},
   "outputs": [],
   "source": [
    "delete_secret()"
   ]
  },
  {
   "cell_type": "markdown",
   "metadata": {},
   "source": [
    "**Note**:That it is the same as executing with the CLI"
   ]
  },
  {
   "cell_type": "code",
   "execution_count": null,
   "metadata": {},
   "outputs": [],
   "source": [
    "!az keyvault secret set --vault-name aTestKeyvault --name \"aSampleTestSecret\" --value \"3$5&7(9=\" "
   ]
  },
  {
   "cell_type": "code",
   "execution_count": null,
   "id": "4c3c7c61",
   "metadata": {},
   "outputs": [],
   "source": [
    "!az keyvault secret show --vault-name aTestKeyvault --name \"aSampleTestSecret\" --query \"value\" "
   ]
  },
  {
   "cell_type": "code",
   "execution_count": null,
   "id": "865a9262",
   "metadata": {},
   "outputs": [],
   "source": [
    "!az keyvault secret delete --vault-name aTestKeyvault --name \"aSampleTestSecret\" "
   ]
  },
  {
   "cell_type": "markdown",
   "id": "28444e1a",
   "metadata": {},
   "source": [
    "### Clean up resources allocated\n",
    "\n",
    "To avoid any additional extra cost, it is recommended to clean the resources after finish the Lab."
   ]
  },
  {
   "cell_type": "code",
   "execution_count": null,
   "id": "e5aee83c",
   "metadata": {},
   "outputs": [],
   "source": [
    "!az group delete --resource-group myResourceGroup"
   ]
  }
 ],
 "metadata": {
  "kernelspec": {
   "display_name": "Python 3",
   "language": "python",
   "name": "python3"
  },
  "language_info": {
   "codemirror_mode": {
    "name": "ipython",
    "version": 3
   },
   "file_extension": ".py",
   "mimetype": "text/x-python",
   "name": "python",
   "nbconvert_exporter": "python",
   "pygments_lexer": "ipython3",
   "version": "3.6.9"
  }
 },
 "nbformat": 4,
 "nbformat_minor": 5
}
