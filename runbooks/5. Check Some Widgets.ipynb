{
 "cells": [
  {
   "cell_type": "markdown",
   "source": [
    "# DevOpsLab Jupyter: Notebook example\r\n",
    "\r\n",
    "## Show widgets usage demo\r\n",
    "\r\n",
    "### Objective\r\n",
    "\r\n",
    "Run this runbook to check some available widgets in the Jupyter Notebooks and how to use inside the Notebooks\r\n"
   ],
   "metadata": {}
  },
  {
   "cell_type": "markdown",
   "source": [
    "### Showing maps with ipleaflet\n",
    "This widgets shows interactive maps that can be enrich using geojson-encoded data structures"
   ],
   "metadata": {}
  },
  {
   "cell_type": "markdown",
   "source": [
    "**Installation**"
   ],
   "metadata": {}
  },
  {
   "cell_type": "code",
   "execution_count": null,
   "source": [
    "%pip install ipyleaflet\r\n"
   ],
   "outputs": [],
   "metadata": {}
  },
  {
   "cell_type": "code",
   "execution_count": null,
   "source": [
    "!jupyter nbextension enable --py --sys-prefix ipyleaflet"
   ],
   "outputs": [],
   "metadata": {
    "scrolled": true
   }
  },
  {
   "cell_type": "markdown",
   "source": [
    "**Example**"
   ],
   "metadata": {}
  },
  {
   "cell_type": "code",
   "execution_count": null,
   "source": [
    "from ipyleaflet import Map\r\n",
    "Map (center=[42.4671213247137, -2.4454133612], zoom=10)"
   ],
   "outputs": [],
   "metadata": {}
  }
 ],
 "metadata": {
  "kernelspec": {
   "display_name": "Python 3",
   "language": "python",
   "name": "python3"
  },
  "language_info": {
   "codemirror_mode": {
    "name": "ipython",
    "version": 3
   },
   "file_extension": ".py",
   "mimetype": "text/x-python",
   "name": "python",
   "nbconvert_exporter": "python",
   "pygments_lexer": "ipython3",
   "version": "3.8.6"
  }
 },
 "nbformat": 4,
 "nbformat_minor": 4
}