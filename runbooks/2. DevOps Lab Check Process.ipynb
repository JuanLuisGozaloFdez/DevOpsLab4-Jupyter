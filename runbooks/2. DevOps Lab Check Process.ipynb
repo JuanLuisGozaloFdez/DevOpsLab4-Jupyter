{
 "cells": [
  {
   "cell_type": "markdown",
   "metadata": {},
   "source": [
    "# DevOpsLab Jupyter: Notebook example\n",
    "## Check a system/process"
   ]
  },
  {
   "cell_type": "markdown",
   "metadata": {},
   "source": [
    "### Objective\n",
    "\n",
    "Run this runbook to ckeck if kibana is running or not and, if required, fix it!\n",
    "\n",
    "### Steps to ckeck\n",
    "\n",
    "- 1. Connect to system\n",
    "- 2. Verify if Kibana is running executing \"kibana status\" as a admin user (\"service-user\" user in our case)\n",
    "\n",
    "### Expected result\n",
    "\n",
    "If the connection to the system is OK, then cell will be executed and the output will be\n",
    "- \"Kibana is stopped\" or\n",
    "- \"Kibana is running\"\n",
    "\n",
    "If the connection to the system is KO, then cell will be end with a connection error"
   ]
  },
  {
   "cell_type": "code",
   "execution_count": null,
   "metadata": {
    "scrolled": true
   },
   "outputs": [],
   "source": [
    "%%bash\n",
    "STATUS_SCRIPT=\"sudo service-user kibana status\"\n",
    "ssh -i ~/.ssh/devopslab-london.pem ubuntu@ec2-52-56-131-205.eu-west2.compute.amazonaws.com \"${STATUS_SCRIPT}\""
   ]
  },
  {
   "cell_type": "markdown",
   "metadata": {},
   "source": [
    "### Steps to fix\n",
    "\n",
    "1. Connect to system\n",
    "2. Restart Kibana executing \"kibana restart\" as a admin user (\"service-user\" user in our case)\n",
    "3. Verify if it is now running OK\n",
    "\n",
    "### Expected result\n",
    "\n",
    "If the connection to the system is OK, then cell will be executed and the output will be\n",
    "- \"Restarting Kibana\" and\n",
    "- \"Kibana is running\"\n",
    "\n",
    "If the connection to the system is KO, then cell will be end with a connection error"
   ]
  },
  {
   "cell_type": "code",
   "execution_count": null,
   "metadata": {},
   "outputs": [],
   "source": [
    "%%bash\n",
    "STATUS_SCRIPT=\"sudo service-user kibana status\"\n",
    "RESTART_SCRIPT=\"sudo service-user kibana restart\"\n",
    "ssh -i \"~/.ssh/devopslab-london.pem\" ubuntu@ec2-52-56-131-205.eu-west-2.compute.amazonaws.com \"${RESTART_SCRIPT} & ${STATUS_SCRIPT}\""
   ]
  }
 ],
 "metadata": {
  "kernelspec": {
   "display_name": "Python 3",
   "language": "python",
   "name": "python3"
  },
  "language_info": {
   "codemirror_mode": {
    "name": "ipython",
    "version": 3
   },
   "file_extension": ".py",
   "mimetype": "text/x-python",
   "name": "python",
   "nbconvert_exporter": "python",
   "pygments_lexer": "ipython3",
   "version": "3.6.9"
  }
 },
 "nbformat": 4,
 "nbformat_minor": 4
}