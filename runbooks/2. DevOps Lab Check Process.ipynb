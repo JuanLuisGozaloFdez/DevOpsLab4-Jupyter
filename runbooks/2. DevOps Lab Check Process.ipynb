{
 "cells": [
  {
   "cell_type": "markdown",
   "metadata": {},
   "source": [
    "# DevOpsLab Jupyter: Notebook example\n",
    "\n",
    "## Check a system or process in a remote machine\n",
    "\n",
    "### Objective\n",
    "\n",
    "Run this runbook to ckeck if Filebeat collector is running or not and, if required, fix it!\n",
    "\n",
    "### Steps to ckeck\n",
    "\n",
    "- 1. Connect to system\n",
    "- 2. Verify if Filebeat Collector is running executing \"systemctl status filebeat\" as a admin user (\"filebeat\" user in this example)\n",
    "\n",
    "### Expected result\n",
    "\n",
    "If the connection to the system is OK, then cell will be executed and the output will be\n",
    "\n",
    "- \"Filebeat is Active since ...\" or\n",
    "- \"Filebeat is inactive\"\n",
    "\n",
    "If the connection to the system is KO, then cell will be end with a connection error\n",
    "\n",
    "### Prerequisite\n",
    "\n",
    "The pem file must be already allocated in the .ssh directory of the operator to allow a remote connection.\n",
    "Also a \"config\" file will be created in the same .ssh directory with the aprropiate variables to allow the connection: \n",
    "> Host *amazonaws.com\n",
    "\n",
    "> IdentityFile ~/.ssh/2021-devopslab-test.pem\n",
    "\n",
    "> User ubuntu\n",
    "\n"
   ]
  },
  {
   "cell_type": "code",
   "execution_count": 3,
   "metadata": {},
   "outputs": [
    {
     "name": "stdout",
     "output_type": "stream",
     "text": [
      "env: remote_system=ec2-15-237-43-164.eu-west-3.compute.amazonaws.com\n"
     ]
    }
   ],
   "source": [
    "%env remote_system=ec2-15-237-43-164.eu-west-3.compute.amazonaws.com"
   ]
  },
  {
   "cell_type": "code",
   "execution_count": null,
   "metadata": {
    "scrolled": true
   },
   "outputs": [],
   "source": [
    "%%bash\n",
    "STATUS_SCRIPT=\"systemctl status filebeat\"\n",
    "# ssh -i ~/.ssh/${remote_machine_pem_file} ${remote_user_and_system} \"${STATUS_SCRIPT}\"\n",
    "ssh ${remote_system} \"${STATUS_SCRIPT}\""
   ]
  },
  {
   "cell_type": "markdown",
   "metadata": {},
   "source": [
    "### Steps to fix\n",
    "\n",
    "1. Connect to system\n",
    "2. Restart Filebeat Collector executing \"systemctl start Filebeat\" as a admin user (\"filebeat\" user in our case)\n",
    "3. Verify if it is now running OK\n",
    "\n",
    "### Expected result\n",
    "\n",
    "If the connection to the system is OK, then cell will be executed and the output will be\n",
    "\n",
    "- \"Restarting Filebeat\" and\n",
    "- \"Filebeat is Active since ...\"\n",
    "\n",
    "If the connection to the system is KO, then cell will be end with a connection error\n",
    "\n",
    "### Prerequisite\n",
    "\n",
    "The pem file must be already allocated in the .ssh directory of the operator to allow a remote connection and the environment variables must be set appropiately.\n"
   ]
  },
  {
   "cell_type": "code",
   "execution_count": null,
   "metadata": {},
   "outputs": [],
   "source": [
    "%%bash\n",
    "STATUS_SCRIPT=\"systemctl status filebeat\"\n",
    "RESTART_SCRIPT=\"systemctl start filebeat\"\n",
    "ssh ${remote_system} \"${RESTART_SCRIPT} & ${STATUS_SCRIPT}\""
   ]
  }
 ],
 "metadata": {
  "kernelspec": {
   "display_name": "Python 3",
   "language": "python",
   "name": "python3"
  },
  "language_info": {
   "codemirror_mode": {
    "name": "ipython",
    "version": 3
   },
   "file_extension": ".py",
   "mimetype": "text/x-python",
   "name": "python",
   "nbconvert_exporter": "python",
   "pygments_lexer": "ipython3",
   "version": "3.8.2"
  }
 },
 "nbformat": 4,
 "nbformat_minor": 4
}
