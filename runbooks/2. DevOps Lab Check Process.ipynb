{
 "cells": [
  {
   "cell_type": "markdown",
   "source": [
    "# DevOpsLab Jupyter: Notebook example\r\n",
    "\r\n",
    "## Check a system or process in a remote machine\r\n",
    "\r\n",
    "### Objective\r\n",
    "\r\n",
    "Run this runbook to ckeck if Filebeat collector is running or not and, if required, fix it!\r\n",
    "\r\n",
    "### Steps to ckeck\r\n",
    "\r\n",
    "- 1. Connect to system\r\n",
    "- 2. Verify if Filebeat Collector is running executing \"systemctl status filebeat\" as a admin user (\"filebeat\" user in our case)\r\n",
    "\r\n",
    "### Expected result\r\n",
    "\r\n",
    "If the connection to the system is OK, then cell will be executed and the output will be\r\n",
    "\r\n",
    "- \"Filebeat is not running\" or\r\n",
    "- \"Filebeat is running\"\r\n",
    "\r\n",
    "If the connection to the system is KO, then cell will be end with a connection error\r\n",
    "\r\n",
    "### Prerequisite\r\n",
    "\r\n",
    "The pem file must be already allocated in the .ssh directory of the operator to allow a remote connection and the environment variables must be set appropiately.\r\n"
   ],
   "metadata": {}
  },
  {
   "cell_type": "code",
   "execution_count": 1,
   "source": [
    "%env remote_machine_pem_file=devopslab-london-new.pem\r\n",
    "%env remote_user_and_system=devopslab@ec2-18-169-243-95.eu-west-2.compute.amazonaws.com"
   ],
   "outputs": [
    {
     "output_type": "stream",
     "name": "stdout",
     "text": [
      "env: remote_machine_pem_file=devopslab-london-new.pem\n",
      "env: remote_user_and_system=devopslab@ec2-18-169-243-95.eu-west-2.compute.amazonaws.com\n"
     ]
    }
   ],
   "metadata": {}
  },
  {
   "cell_type": "code",
   "execution_count": 2,
   "source": [
    "%%bash\r\n",
    "STATUS_SCRIPT=\"systemctl status filebeat\"\r\n",
    "ssh -i ~/.ssh/${remote_machine_pem_file} ${remote_user_and_system} \"${STATUS_SCRIPT}\""
   ],
   "outputs": [
    {
     "output_type": "stream",
     "name": "stderr",
     "text": [
      "` not found.\n"
     ]
    }
   ],
   "metadata": {
    "scrolled": true
   }
  },
  {
   "cell_type": "markdown",
   "source": [
    "### Steps to fix\r\n",
    "\r\n",
    "1. Connect to system\r\n",
    "2. Restart Filebeat Collector executing \"systemctl start Filebeat\" as a admin user (\"filebeat\" user in our case)\r\n",
    "3. Verify if it is now running OK\r\n",
    "\r\n",
    "### Expected result\r\n",
    "\r\n",
    "If the connection to the system is OK, then cell will be executed and the output will be\r\n",
    "\r\n",
    "- \"Restarting Filebeat\" and\r\n",
    "- \"Filebeat is running\"\r\n",
    "\r\n",
    "If the connection to the system is KO, then cell will be end with a connection error\r\n",
    "\r\n",
    "### Prerequisite\r\n",
    "\r\n",
    "The pem file must be already allocated in the .ssh directory of the operator to allow a remote connection and the environment variables must be set appropiately.\r\n"
   ],
   "metadata": {}
  },
  {
   "cell_type": "code",
   "execution_count": null,
   "source": [
    "%%bash\r\n",
    "STATUS_SCRIPT=\"systemctl status filebeat\"\r\n",
    "RESTART_SCRIPT=\"systemctl start filebeat\"\r\n",
    "ssh -i ~/.ssh/${remote_machine_pem_file} ${remote_user_and_system} \"${RESTART_SCRIPT} & ${STATUS_SCRIPT}\""
   ],
   "outputs": [],
   "metadata": {}
  }
 ],
 "metadata": {
  "kernelspec": {
   "display_name": "Python 3",
   "language": "python",
   "name": "python3"
  },
  "language_info": {
   "codemirror_mode": {
    "name": "ipython",
    "version": 3
   },
   "file_extension": ".py",
   "mimetype": "text/x-python",
   "name": "python",
   "nbconvert_exporter": "python",
   "pygments_lexer": "ipython3",
   "version": "3.6.9"
  }
 },
 "nbformat": 4,
 "nbformat_minor": 4
}